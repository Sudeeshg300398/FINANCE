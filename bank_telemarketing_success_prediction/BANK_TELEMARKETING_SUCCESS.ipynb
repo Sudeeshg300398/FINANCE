{
 "cells": [
  {
   "cell_type": "code",
   "execution_count": 1,
   "id": "fb9b0157",
   "metadata": {},
   "outputs": [],
   "source": [
    "# importing necessary libraries\n",
    "\n",
    "import warnings\n",
    "warnings.filterwarnings(\"ignore\")\n",
    "import time\n",
    "\n",
    "import numpy as np\n",
    "import pandas as pd\n",
    "import seaborn as sns\n",
    "import matplotlib.pyplot as plt\n",
    "import scipy.stats as stats\n",
    "import statsmodels.api as sm\n",
    "\n",
    "from sklearn.preprocessing import LabelEncoder\n",
    "from imblearn.over_sampling import SMOTE\n",
    "from sklearn.model_selection import train_test_split,GridSearchCV\n",
    "from sklearn.preprocessing import StandardScaler\n",
    "from sklearn.linear_model import LogisticRegression,SGDClassifier\n",
    "from sklearn.tree import DecisionTreeClassifier\n",
    "from sklearn.ensemble import RandomForestClassifier\n",
    "from sklearn.naive_bayes import GaussianNB\n",
    "from sklearn.metrics import accuracy_score,classification_report,roc_curve,roc_auc_score,auc\n",
    "\n",
    "pd.set_option('display.max_rows',None)\n",
    "pd.set_option('display.max_columns',None)"
   ]
  },
  {
   "cell_type": "code",
   "execution_count": 2,
   "id": "dcc8ba33",
   "metadata": {},
   "outputs": [
    {
     "data": {
      "text/html": [
       "<div>\n",
       "<style scoped>\n",
       "    .dataframe tbody tr th:only-of-type {\n",
       "        vertical-align: middle;\n",
       "    }\n",
       "\n",
       "    .dataframe tbody tr th {\n",
       "        vertical-align: top;\n",
       "    }\n",
       "\n",
       "    .dataframe thead th {\n",
       "        text-align: right;\n",
       "    }\n",
       "</style>\n",
       "<table border=\"1\" class=\"dataframe\">\n",
       "  <thead>\n",
       "    <tr style=\"text-align: right;\">\n",
       "      <th></th>\n",
       "      <th>age</th>\n",
       "      <th>job</th>\n",
       "      <th>marital</th>\n",
       "      <th>education</th>\n",
       "      <th>default</th>\n",
       "      <th>housing</th>\n",
       "      <th>loan</th>\n",
       "      <th>contact</th>\n",
       "      <th>month</th>\n",
       "      <th>day_of_week</th>\n",
       "      <th>duration</th>\n",
       "      <th>campaign</th>\n",
       "      <th>pdays</th>\n",
       "      <th>previous</th>\n",
       "      <th>poutcome</th>\n",
       "      <th>emp.var.rate</th>\n",
       "      <th>cons.price.idx</th>\n",
       "      <th>cons.conf.idx</th>\n",
       "      <th>euribor3m</th>\n",
       "      <th>nr.employed</th>\n",
       "      <th>y</th>\n",
       "    </tr>\n",
       "  </thead>\n",
       "  <tbody>\n",
       "    <tr>\n",
       "      <th>0</th>\n",
       "      <td>56</td>\n",
       "      <td>housemaid</td>\n",
       "      <td>married</td>\n",
       "      <td>basic.4y</td>\n",
       "      <td>no</td>\n",
       "      <td>no</td>\n",
       "      <td>no</td>\n",
       "      <td>telephone</td>\n",
       "      <td>may</td>\n",
       "      <td>mon</td>\n",
       "      <td>261</td>\n",
       "      <td>1</td>\n",
       "      <td>999</td>\n",
       "      <td>0</td>\n",
       "      <td>nonexistent</td>\n",
       "      <td>1.1</td>\n",
       "      <td>93.994</td>\n",
       "      <td>-36.4</td>\n",
       "      <td>4.857</td>\n",
       "      <td>5191.0</td>\n",
       "      <td>no</td>\n",
       "    </tr>\n",
       "    <tr>\n",
       "      <th>1</th>\n",
       "      <td>57</td>\n",
       "      <td>services</td>\n",
       "      <td>married</td>\n",
       "      <td>high.school</td>\n",
       "      <td>unknown</td>\n",
       "      <td>no</td>\n",
       "      <td>no</td>\n",
       "      <td>telephone</td>\n",
       "      <td>may</td>\n",
       "      <td>mon</td>\n",
       "      <td>149</td>\n",
       "      <td>1</td>\n",
       "      <td>999</td>\n",
       "      <td>0</td>\n",
       "      <td>nonexistent</td>\n",
       "      <td>1.1</td>\n",
       "      <td>93.994</td>\n",
       "      <td>-36.4</td>\n",
       "      <td>4.857</td>\n",
       "      <td>5191.0</td>\n",
       "      <td>no</td>\n",
       "    </tr>\n",
       "    <tr>\n",
       "      <th>2</th>\n",
       "      <td>37</td>\n",
       "      <td>services</td>\n",
       "      <td>married</td>\n",
       "      <td>high.school</td>\n",
       "      <td>no</td>\n",
       "      <td>yes</td>\n",
       "      <td>no</td>\n",
       "      <td>telephone</td>\n",
       "      <td>may</td>\n",
       "      <td>mon</td>\n",
       "      <td>226</td>\n",
       "      <td>1</td>\n",
       "      <td>999</td>\n",
       "      <td>0</td>\n",
       "      <td>nonexistent</td>\n",
       "      <td>1.1</td>\n",
       "      <td>93.994</td>\n",
       "      <td>-36.4</td>\n",
       "      <td>4.857</td>\n",
       "      <td>5191.0</td>\n",
       "      <td>no</td>\n",
       "    </tr>\n",
       "    <tr>\n",
       "      <th>3</th>\n",
       "      <td>40</td>\n",
       "      <td>admin.</td>\n",
       "      <td>married</td>\n",
       "      <td>basic.6y</td>\n",
       "      <td>no</td>\n",
       "      <td>no</td>\n",
       "      <td>no</td>\n",
       "      <td>telephone</td>\n",
       "      <td>may</td>\n",
       "      <td>mon</td>\n",
       "      <td>151</td>\n",
       "      <td>1</td>\n",
       "      <td>999</td>\n",
       "      <td>0</td>\n",
       "      <td>nonexistent</td>\n",
       "      <td>1.1</td>\n",
       "      <td>93.994</td>\n",
       "      <td>-36.4</td>\n",
       "      <td>4.857</td>\n",
       "      <td>5191.0</td>\n",
       "      <td>no</td>\n",
       "    </tr>\n",
       "    <tr>\n",
       "      <th>4</th>\n",
       "      <td>56</td>\n",
       "      <td>services</td>\n",
       "      <td>married</td>\n",
       "      <td>high.school</td>\n",
       "      <td>no</td>\n",
       "      <td>no</td>\n",
       "      <td>yes</td>\n",
       "      <td>telephone</td>\n",
       "      <td>may</td>\n",
       "      <td>mon</td>\n",
       "      <td>307</td>\n",
       "      <td>1</td>\n",
       "      <td>999</td>\n",
       "      <td>0</td>\n",
       "      <td>nonexistent</td>\n",
       "      <td>1.1</td>\n",
       "      <td>93.994</td>\n",
       "      <td>-36.4</td>\n",
       "      <td>4.857</td>\n",
       "      <td>5191.0</td>\n",
       "      <td>no</td>\n",
       "    </tr>\n",
       "  </tbody>\n",
       "</table>\n",
       "</div>"
      ],
      "text/plain": [
       "   age        job  marital    education  default housing loan    contact  \\\n",
       "0   56  housemaid  married     basic.4y       no      no   no  telephone   \n",
       "1   57   services  married  high.school  unknown      no   no  telephone   \n",
       "2   37   services  married  high.school       no     yes   no  telephone   \n",
       "3   40     admin.  married     basic.6y       no      no   no  telephone   \n",
       "4   56   services  married  high.school       no      no  yes  telephone   \n",
       "\n",
       "  month day_of_week  duration  campaign  pdays  previous     poutcome  \\\n",
       "0   may         mon       261         1    999         0  nonexistent   \n",
       "1   may         mon       149         1    999         0  nonexistent   \n",
       "2   may         mon       226         1    999         0  nonexistent   \n",
       "3   may         mon       151         1    999         0  nonexistent   \n",
       "4   may         mon       307         1    999         0  nonexistent   \n",
       "\n",
       "   emp.var.rate  cons.price.idx  cons.conf.idx  euribor3m  nr.employed   y  \n",
       "0           1.1          93.994          -36.4      4.857       5191.0  no  \n",
       "1           1.1          93.994          -36.4      4.857       5191.0  no  \n",
       "2           1.1          93.994          -36.4      4.857       5191.0  no  \n",
       "3           1.1          93.994          -36.4      4.857       5191.0  no  \n",
       "4           1.1          93.994          -36.4      4.857       5191.0  no  "
      ]
     },
     "execution_count": 2,
     "metadata": {},
     "output_type": "execute_result"
    }
   ],
   "source": [
    "#reading the file\n",
    "\n",
    "path=\"C:\\\\Users\\\\91755\\\\Downloads\\\\bank+marketing (1)\\\\bank-additional\\\\bank-additional\\\\bank-additional-full.csv\"\n",
    "df=pd.read_csv(path,sep=';')\n",
    "df.head()"
   ]
  },
  {
   "cell_type": "code",
   "execution_count": 3,
   "id": "cf5ffb1b",
   "metadata": {},
   "outputs": [
    {
     "data": {
      "text/plain": [
       "(41188, 21)"
      ]
     },
     "execution_count": 3,
     "metadata": {},
     "output_type": "execute_result"
    }
   ],
   "source": [
    "# no.of rows and columns\n",
    "\n",
    "df.shape"
   ]
  },
  {
   "cell_type": "code",
   "execution_count": 4,
   "id": "34f1f751",
   "metadata": {},
   "outputs": [
    {
     "name": "stdout",
     "output_type": "stream",
     "text": [
      "NO_OF_DUPLICATES =  12\n"
     ]
    },
    {
     "data": {
      "text/plain": [
       "(41176, 21)"
      ]
     },
     "execution_count": 4,
     "metadata": {},
     "output_type": "execute_result"
    }
   ],
   "source": [
    "# dropping duplicates\n",
    "\n",
    "df_ref=df.drop_duplicates()\n",
    "print(\"NO_OF_DUPLICATES = \",df.shape[0] - df_ref.shape[0])\n",
    "df_ref.shape"
   ]
  },
  {
   "cell_type": "code",
   "execution_count": 5,
   "id": "413f3aa2",
   "metadata": {},
   "outputs": [],
   "source": [
    "#copying the dataset for furthur analysis\n",
    "\n",
    "df=df_ref.copy()"
   ]
  },
  {
   "cell_type": "code",
   "execution_count": 6,
   "id": "393dd253",
   "metadata": {},
   "outputs": [
    {
     "name": "stdout",
     "output_type": "stream",
     "text": [
      "<class 'pandas.core.frame.DataFrame'>\n",
      "Int64Index: 41176 entries, 0 to 41187\n",
      "Data columns (total 21 columns):\n",
      " #   Column          Non-Null Count  Dtype  \n",
      "---  ------          --------------  -----  \n",
      " 0   age             41176 non-null  int64  \n",
      " 1   job             41176 non-null  object \n",
      " 2   marital         41176 non-null  object \n",
      " 3   education       41176 non-null  object \n",
      " 4   default         41176 non-null  object \n",
      " 5   housing         41176 non-null  object \n",
      " 6   loan            41176 non-null  object \n",
      " 7   contact         41176 non-null  object \n",
      " 8   month           41176 non-null  object \n",
      " 9   day_of_week     41176 non-null  object \n",
      " 10  duration        41176 non-null  int64  \n",
      " 11  campaign        41176 non-null  int64  \n",
      " 12  pdays           41176 non-null  int64  \n",
      " 13  previous        41176 non-null  int64  \n",
      " 14  poutcome        41176 non-null  object \n",
      " 15  emp.var.rate    41176 non-null  float64\n",
      " 16  cons.price.idx  41176 non-null  float64\n",
      " 17  cons.conf.idx   41176 non-null  float64\n",
      " 18  euribor3m       41176 non-null  float64\n",
      " 19  nr.employed     41176 non-null  float64\n",
      " 20  y               41176 non-null  object \n",
      "dtypes: float64(5), int64(5), object(11)\n",
      "memory usage: 6.9+ MB\n"
     ]
    }
   ],
   "source": [
    "# dataset information\n",
    "df.info()"
   ]
  },
  {
   "cell_type": "code",
   "execution_count": 7,
   "id": "c82332f5",
   "metadata": {},
   "outputs": [
    {
     "data": {
      "text/html": [
       "<div>\n",
       "<style scoped>\n",
       "    .dataframe tbody tr th:only-of-type {\n",
       "        vertical-align: middle;\n",
       "    }\n",
       "\n",
       "    .dataframe tbody tr th {\n",
       "        vertical-align: top;\n",
       "    }\n",
       "\n",
       "    .dataframe thead th {\n",
       "        text-align: right;\n",
       "    }\n",
       "</style>\n",
       "<table border=\"1\" class=\"dataframe\">\n",
       "  <thead>\n",
       "    <tr style=\"text-align: right;\">\n",
       "      <th></th>\n",
       "      <th>age</th>\n",
       "      <th>duration</th>\n",
       "      <th>campaign</th>\n",
       "      <th>pdays</th>\n",
       "      <th>previous</th>\n",
       "      <th>emp.var.rate</th>\n",
       "      <th>cons.price.idx</th>\n",
       "      <th>cons.conf.idx</th>\n",
       "      <th>euribor3m</th>\n",
       "      <th>nr.employed</th>\n",
       "    </tr>\n",
       "  </thead>\n",
       "  <tbody>\n",
       "    <tr>\n",
       "      <th>count</th>\n",
       "      <td>41176.00000</td>\n",
       "      <td>41176.000000</td>\n",
       "      <td>41176.000000</td>\n",
       "      <td>41176.000000</td>\n",
       "      <td>41176.000000</td>\n",
       "      <td>41176.000000</td>\n",
       "      <td>41176.000000</td>\n",
       "      <td>41176.000000</td>\n",
       "      <td>41176.000000</td>\n",
       "      <td>41176.000000</td>\n",
       "    </tr>\n",
       "    <tr>\n",
       "      <th>mean</th>\n",
       "      <td>40.02380</td>\n",
       "      <td>258.315815</td>\n",
       "      <td>2.567879</td>\n",
       "      <td>962.464810</td>\n",
       "      <td>0.173013</td>\n",
       "      <td>0.081922</td>\n",
       "      <td>93.575720</td>\n",
       "      <td>-40.502863</td>\n",
       "      <td>3.621293</td>\n",
       "      <td>5167.034870</td>\n",
       "    </tr>\n",
       "    <tr>\n",
       "      <th>std</th>\n",
       "      <td>10.42068</td>\n",
       "      <td>259.305321</td>\n",
       "      <td>2.770318</td>\n",
       "      <td>186.937102</td>\n",
       "      <td>0.494964</td>\n",
       "      <td>1.570883</td>\n",
       "      <td>0.578839</td>\n",
       "      <td>4.627860</td>\n",
       "      <td>1.734437</td>\n",
       "      <td>72.251364</td>\n",
       "    </tr>\n",
       "    <tr>\n",
       "      <th>min</th>\n",
       "      <td>17.00000</td>\n",
       "      <td>0.000000</td>\n",
       "      <td>1.000000</td>\n",
       "      <td>0.000000</td>\n",
       "      <td>0.000000</td>\n",
       "      <td>-3.400000</td>\n",
       "      <td>92.201000</td>\n",
       "      <td>-50.800000</td>\n",
       "      <td>0.634000</td>\n",
       "      <td>4963.600000</td>\n",
       "    </tr>\n",
       "    <tr>\n",
       "      <th>25%</th>\n",
       "      <td>32.00000</td>\n",
       "      <td>102.000000</td>\n",
       "      <td>1.000000</td>\n",
       "      <td>999.000000</td>\n",
       "      <td>0.000000</td>\n",
       "      <td>-1.800000</td>\n",
       "      <td>93.075000</td>\n",
       "      <td>-42.700000</td>\n",
       "      <td>1.344000</td>\n",
       "      <td>5099.100000</td>\n",
       "    </tr>\n",
       "    <tr>\n",
       "      <th>50%</th>\n",
       "      <td>38.00000</td>\n",
       "      <td>180.000000</td>\n",
       "      <td>2.000000</td>\n",
       "      <td>999.000000</td>\n",
       "      <td>0.000000</td>\n",
       "      <td>1.100000</td>\n",
       "      <td>93.749000</td>\n",
       "      <td>-41.800000</td>\n",
       "      <td>4.857000</td>\n",
       "      <td>5191.000000</td>\n",
       "    </tr>\n",
       "    <tr>\n",
       "      <th>75%</th>\n",
       "      <td>47.00000</td>\n",
       "      <td>319.000000</td>\n",
       "      <td>3.000000</td>\n",
       "      <td>999.000000</td>\n",
       "      <td>0.000000</td>\n",
       "      <td>1.400000</td>\n",
       "      <td>93.994000</td>\n",
       "      <td>-36.400000</td>\n",
       "      <td>4.961000</td>\n",
       "      <td>5228.100000</td>\n",
       "    </tr>\n",
       "    <tr>\n",
       "      <th>max</th>\n",
       "      <td>98.00000</td>\n",
       "      <td>4918.000000</td>\n",
       "      <td>56.000000</td>\n",
       "      <td>999.000000</td>\n",
       "      <td>7.000000</td>\n",
       "      <td>1.400000</td>\n",
       "      <td>94.767000</td>\n",
       "      <td>-26.900000</td>\n",
       "      <td>5.045000</td>\n",
       "      <td>5228.100000</td>\n",
       "    </tr>\n",
       "  </tbody>\n",
       "</table>\n",
       "</div>"
      ],
      "text/plain": [
       "               age      duration      campaign         pdays      previous  \\\n",
       "count  41176.00000  41176.000000  41176.000000  41176.000000  41176.000000   \n",
       "mean      40.02380    258.315815      2.567879    962.464810      0.173013   \n",
       "std       10.42068    259.305321      2.770318    186.937102      0.494964   \n",
       "min       17.00000      0.000000      1.000000      0.000000      0.000000   \n",
       "25%       32.00000    102.000000      1.000000    999.000000      0.000000   \n",
       "50%       38.00000    180.000000      2.000000    999.000000      0.000000   \n",
       "75%       47.00000    319.000000      3.000000    999.000000      0.000000   \n",
       "max       98.00000   4918.000000     56.000000    999.000000      7.000000   \n",
       "\n",
       "       emp.var.rate  cons.price.idx  cons.conf.idx     euribor3m   nr.employed  \n",
       "count  41176.000000    41176.000000   41176.000000  41176.000000  41176.000000  \n",
       "mean       0.081922       93.575720     -40.502863      3.621293   5167.034870  \n",
       "std        1.570883        0.578839       4.627860      1.734437     72.251364  \n",
       "min       -3.400000       92.201000     -50.800000      0.634000   4963.600000  \n",
       "25%       -1.800000       93.075000     -42.700000      1.344000   5099.100000  \n",
       "50%        1.100000       93.749000     -41.800000      4.857000   5191.000000  \n",
       "75%        1.400000       93.994000     -36.400000      4.961000   5228.100000  \n",
       "max        1.400000       94.767000     -26.900000      5.045000   5228.100000  "
      ]
     },
     "execution_count": 7,
     "metadata": {},
     "output_type": "execute_result"
    }
   ],
   "source": [
    "# summary_statistic of numerical columns\n",
    "df.describe()"
   ]
  },
  {
   "cell_type": "code",
   "execution_count": 8,
   "id": "ae76ddd2",
   "metadata": {},
   "outputs": [
    {
     "data": {
      "text/html": [
       "<div>\n",
       "<style scoped>\n",
       "    .dataframe tbody tr th:only-of-type {\n",
       "        vertical-align: middle;\n",
       "    }\n",
       "\n",
       "    .dataframe tbody tr th {\n",
       "        vertical-align: top;\n",
       "    }\n",
       "\n",
       "    .dataframe thead th {\n",
       "        text-align: right;\n",
       "    }\n",
       "</style>\n",
       "<table border=\"1\" class=\"dataframe\">\n",
       "  <thead>\n",
       "    <tr style=\"text-align: right;\">\n",
       "      <th></th>\n",
       "      <th>job</th>\n",
       "      <th>marital</th>\n",
       "      <th>education</th>\n",
       "      <th>default</th>\n",
       "      <th>housing</th>\n",
       "      <th>loan</th>\n",
       "      <th>contact</th>\n",
       "      <th>month</th>\n",
       "      <th>day_of_week</th>\n",
       "      <th>poutcome</th>\n",
       "      <th>y</th>\n",
       "    </tr>\n",
       "  </thead>\n",
       "  <tbody>\n",
       "    <tr>\n",
       "      <th>count</th>\n",
       "      <td>41176</td>\n",
       "      <td>41176</td>\n",
       "      <td>41176</td>\n",
       "      <td>41176</td>\n",
       "      <td>41176</td>\n",
       "      <td>41176</td>\n",
       "      <td>41176</td>\n",
       "      <td>41176</td>\n",
       "      <td>41176</td>\n",
       "      <td>41176</td>\n",
       "      <td>41176</td>\n",
       "    </tr>\n",
       "    <tr>\n",
       "      <th>unique</th>\n",
       "      <td>12</td>\n",
       "      <td>4</td>\n",
       "      <td>8</td>\n",
       "      <td>3</td>\n",
       "      <td>3</td>\n",
       "      <td>3</td>\n",
       "      <td>2</td>\n",
       "      <td>10</td>\n",
       "      <td>5</td>\n",
       "      <td>3</td>\n",
       "      <td>2</td>\n",
       "    </tr>\n",
       "    <tr>\n",
       "      <th>top</th>\n",
       "      <td>admin.</td>\n",
       "      <td>married</td>\n",
       "      <td>university.degree</td>\n",
       "      <td>no</td>\n",
       "      <td>yes</td>\n",
       "      <td>no</td>\n",
       "      <td>cellular</td>\n",
       "      <td>may</td>\n",
       "      <td>thu</td>\n",
       "      <td>nonexistent</td>\n",
       "      <td>no</td>\n",
       "    </tr>\n",
       "    <tr>\n",
       "      <th>freq</th>\n",
       "      <td>10419</td>\n",
       "      <td>24921</td>\n",
       "      <td>12164</td>\n",
       "      <td>32577</td>\n",
       "      <td>21571</td>\n",
       "      <td>33938</td>\n",
       "      <td>26135</td>\n",
       "      <td>13767</td>\n",
       "      <td>8618</td>\n",
       "      <td>35551</td>\n",
       "      <td>36537</td>\n",
       "    </tr>\n",
       "  </tbody>\n",
       "</table>\n",
       "</div>"
      ],
      "text/plain": [
       "           job  marital          education default housing   loan   contact  \\\n",
       "count    41176    41176              41176   41176   41176  41176     41176   \n",
       "unique      12        4                  8       3       3      3         2   \n",
       "top     admin.  married  university.degree      no     yes     no  cellular   \n",
       "freq     10419    24921              12164   32577   21571  33938     26135   \n",
       "\n",
       "        month day_of_week     poutcome      y  \n",
       "count   41176       41176        41176  41176  \n",
       "unique     10           5            3      2  \n",
       "top       may         thu  nonexistent     no  \n",
       "freq    13767        8618        35551  36537  "
      ]
     },
     "execution_count": 8,
     "metadata": {},
     "output_type": "execute_result"
    }
   ],
   "source": [
    "# summary_statistic of categorical columns\n",
    "df.describe(exclude=np.number)"
   ]
  },
  {
   "cell_type": "code",
   "execution_count": 9,
   "id": "7f973e27",
   "metadata": {},
   "outputs": [
    {
     "data": {
      "text/plain": [
       "age               0\n",
       "job               0\n",
       "marital           0\n",
       "education         0\n",
       "default           0\n",
       "housing           0\n",
       "loan              0\n",
       "contact           0\n",
       "month             0\n",
       "day_of_week       0\n",
       "duration          0\n",
       "campaign          0\n",
       "pdays             0\n",
       "previous          0\n",
       "poutcome          0\n",
       "emp.var.rate      0\n",
       "cons.price.idx    0\n",
       "cons.conf.idx     0\n",
       "euribor3m         0\n",
       "nr.employed       0\n",
       "y                 0\n",
       "dtype: int64"
      ]
     },
     "execution_count": 9,
     "metadata": {},
     "output_type": "execute_result"
    }
   ],
   "source": [
    "# missing value analysis\n",
    "\n",
    "df.isna().sum()"
   ]
  },
  {
   "cell_type": "code",
   "execution_count": 10,
   "id": "3aed7f5e",
   "metadata": {},
   "outputs": [
    {
     "data": {
      "text/plain": [
       "university.degree      12164\n",
       "high.school             9512\n",
       "basic.9y                6045\n",
       "professional.course     5240\n",
       "basic.4y                4176\n",
       "basic.6y                2291\n",
       "unknown                 1730\n",
       "illiterate                18\n",
       "Name: education, dtype: int64"
      ]
     },
     "execution_count": 10,
     "metadata": {},
     "output_type": "execute_result"
    }
   ],
   "source": [
    "# checking for hidden inappropriate values\n",
    "df['education'].value_counts()"
   ]
  },
  {
   "cell_type": "code",
   "execution_count": 11,
   "id": "cb25a9b1",
   "metadata": {},
   "outputs": [],
   "source": [
    "#there is some data in education column to be replaced as per portuguese education system\n",
    "df['education']=df['education'].replace({\"basic.4y\":\"first_cycle\",\"basic.6y\":\"second_cycle\",\n",
    "                                        \"basic.9y\":\"third_cycle\"})"
   ]
  },
  {
   "cell_type": "code",
   "execution_count": 12,
   "id": "dbd356dd",
   "metadata": {},
   "outputs": [
    {
     "data": {
      "text/plain": [
       "array(['first_cycle', 'high.school', 'second_cycle', 'third_cycle',\n",
       "       'professional.course', 'unknown', 'university.degree',\n",
       "       'illiterate'], dtype=object)"
      ]
     },
     "execution_count": 12,
     "metadata": {},
     "output_type": "execute_result"
    }
   ],
   "source": [
    "#after replacing value, check for assuring whether values are replaced correctly \n",
    "df['education'].unique()"
   ]
  },
  {
   "cell_type": "code",
   "execution_count": 13,
   "id": "c47a9198",
   "metadata": {},
   "outputs": [
    {
     "data": {
      "text/plain": [
       "['job', 'marital', 'education', 'default', 'housing', 'loan']"
      ]
     },
     "execution_count": 13,
     "metadata": {},
     "output_type": "execute_result"
    }
   ],
   "source": [
    "# found an inappropriate value called \"unknown\" which might be an missing value or to be considered so,\n",
    "# checking for the persence of that particular value in all categorical columns\n",
    "unknown_cols=[]\n",
    "\n",
    "value='unknown'\n",
    "\n",
    "for i in df.select_dtypes(exclude=np.number).columns:\n",
    "    if value in df[i].values:\n",
    "        unknown_cols.append(i)\n",
    "unknown_cols"
   ]
  },
  {
   "cell_type": "code",
   "execution_count": 14,
   "id": "f784730d",
   "metadata": {},
   "outputs": [
    {
     "data": {
      "text/plain": [
       "{'job': 330,\n",
       " 'marital': 80,\n",
       " 'education': 1730,\n",
       " 'default': 8596,\n",
       " 'housing': 990,\n",
       " 'loan': 990}"
      ]
     },
     "execution_count": 14,
     "metadata": {},
     "output_type": "execute_result"
    }
   ],
   "source": [
    "# since the above categorical columns has \"unknown\" value in it, counting the no.of of unknown value in all cat.columns\n",
    "unknown_counts={}\n",
    "\n",
    "value='unknown'\n",
    "\n",
    "for i in unknown_cols:\n",
    "    count=(df[i]==value).sum()\n",
    "    unknown_counts[i]=count\n",
    "unknown_counts"
   ]
  },
  {
   "cell_type": "code",
   "execution_count": 15,
   "id": "68507aa6",
   "metadata": {},
   "outputs": [
    {
     "data": {
      "text/html": [
       "<div>\n",
       "<style scoped>\n",
       "    .dataframe tbody tr th:only-of-type {\n",
       "        vertical-align: middle;\n",
       "    }\n",
       "\n",
       "    .dataframe tbody tr th {\n",
       "        vertical-align: top;\n",
       "    }\n",
       "\n",
       "    .dataframe thead th {\n",
       "        text-align: right;\n",
       "    }\n",
       "</style>\n",
       "<table border=\"1\" class=\"dataframe\">\n",
       "  <thead>\n",
       "    <tr style=\"text-align: right;\">\n",
       "      <th></th>\n",
       "      <th>unknown_count</th>\n",
       "      <th>unknown_percent</th>\n",
       "    </tr>\n",
       "  </thead>\n",
       "  <tbody>\n",
       "    <tr>\n",
       "      <th>default</th>\n",
       "      <td>8596</td>\n",
       "      <td>20.876239</td>\n",
       "    </tr>\n",
       "    <tr>\n",
       "      <th>education</th>\n",
       "      <td>1730</td>\n",
       "      <td>4.201477</td>\n",
       "    </tr>\n",
       "    <tr>\n",
       "      <th>housing</th>\n",
       "      <td>990</td>\n",
       "      <td>2.404313</td>\n",
       "    </tr>\n",
       "    <tr>\n",
       "      <th>loan</th>\n",
       "      <td>990</td>\n",
       "      <td>2.404313</td>\n",
       "    </tr>\n",
       "    <tr>\n",
       "      <th>job</th>\n",
       "      <td>330</td>\n",
       "      <td>0.801438</td>\n",
       "    </tr>\n",
       "    <tr>\n",
       "      <th>marital</th>\n",
       "      <td>80</td>\n",
       "      <td>0.194288</td>\n",
       "    </tr>\n",
       "  </tbody>\n",
       "</table>\n",
       "</div>"
      ],
      "text/plain": [
       "           unknown_count  unknown_percent\n",
       "default             8596        20.876239\n",
       "education           1730         4.201477\n",
       "housing              990         2.404313\n",
       "loan                 990         2.404313\n",
       "job                  330         0.801438\n",
       "marital               80         0.194288"
      ]
     },
     "execution_count": 15,
     "metadata": {},
     "output_type": "execute_result"
    }
   ],
   "source": [
    "# calculating the percentage of \"unknown\" value in all cat.columns\n",
    "\n",
    "df_unknown=pd.DataFrame()\n",
    "df_unknown[\"unknown_count\"]=unknown_counts.values()\n",
    "df_unknown.index=unknown_counts.keys()\n",
    "df_unknown[\"unknown_percent\"]=df_unknown['unknown_count']/len(df)*100\n",
    "df_unknown.sort_values(by=\"unknown_count\",ascending=False)"
   ]
  },
  {
   "cell_type": "code",
   "execution_count": 16,
   "id": "d3ab1072",
   "metadata": {},
   "outputs": [],
   "source": [
    "# feature engineering the age column for ease analysis\n",
    "age_bins = [0, 18, 35, 65, 100]\n",
    "age_labels = ['minor', 'young adult', 'adult', 'senior']\n",
    "\n",
    "# Create a new column 'age_category' based on age ranges\n",
    "df['age_category'] = pd.cut(df['age'], bins=age_bins, labels=age_labels)"
   ]
  },
  {
   "cell_type": "code",
   "execution_count": 17,
   "id": "9d3ba5e6",
   "metadata": {},
   "outputs": [
    {
     "data": {
      "text/plain": [
       "(30478, 22)"
      ]
     },
     "execution_count": 17,
     "metadata": {},
     "output_type": "execute_result"
    }
   ],
   "source": [
    "# dropping the \"unknown\" values and making dataset ready to take forward \n",
    "\n",
    "new_df=df[~(df==\"unknown\").any(axis=1)]\n",
    "new_df.shape"
   ]
  },
  {
   "cell_type": "code",
   "execution_count": 18,
   "id": "423630c8",
   "metadata": {},
   "outputs": [
    {
     "data": {
      "text/plain": [
       "{'job': 0, 'marital': 0, 'education': 0, 'default': 0, 'housing': 0, 'loan': 0}"
      ]
     },
     "execution_count": 18,
     "metadata": {},
     "output_type": "execute_result"
    }
   ],
   "source": [
    "# after dropping all the unknown values, ensuring this new refined dataset has no such values present in it\n",
    "unknown_counts={}\n",
    "\n",
    "value='unknown'\n",
    "\n",
    "for i in unknown_cols:\n",
    "    count=(new_df[i]==value).sum()\n",
    "    unknown_counts[i]=count\n",
    "unknown_counts"
   ]
  },
  {
   "cell_type": "code",
   "execution_count": 19,
   "id": "dce12ce6",
   "metadata": {},
   "outputs": [
    {
     "data": {
      "text/html": [
       "<div>\n",
       "<style scoped>\n",
       "    .dataframe tbody tr th:only-of-type {\n",
       "        vertical-align: middle;\n",
       "    }\n",
       "\n",
       "    .dataframe tbody tr th {\n",
       "        vertical-align: top;\n",
       "    }\n",
       "\n",
       "    .dataframe thead th {\n",
       "        text-align: right;\n",
       "    }\n",
       "</style>\n",
       "<table border=\"1\" class=\"dataframe\">\n",
       "  <thead>\n",
       "    <tr style=\"text-align: right;\">\n",
       "      <th></th>\n",
       "      <th>before_removal</th>\n",
       "      <th>after_removal</th>\n",
       "    </tr>\n",
       "  </thead>\n",
       "  <tbody>\n",
       "    <tr>\n",
       "      <th>job</th>\n",
       "      <td>12</td>\n",
       "      <td>11</td>\n",
       "    </tr>\n",
       "    <tr>\n",
       "      <th>education</th>\n",
       "      <td>8</td>\n",
       "      <td>7</td>\n",
       "    </tr>\n",
       "    <tr>\n",
       "      <th>marital</th>\n",
       "      <td>4</td>\n",
       "      <td>3</td>\n",
       "    </tr>\n",
       "    <tr>\n",
       "      <th>default</th>\n",
       "      <td>3</td>\n",
       "      <td>2</td>\n",
       "    </tr>\n",
       "    <tr>\n",
       "      <th>housing</th>\n",
       "      <td>3</td>\n",
       "      <td>2</td>\n",
       "    </tr>\n",
       "    <tr>\n",
       "      <th>loan</th>\n",
       "      <td>3</td>\n",
       "      <td>2</td>\n",
       "    </tr>\n",
       "  </tbody>\n",
       "</table>\n",
       "</div>"
      ],
      "text/plain": [
       "           before_removal  after_removal\n",
       "job                    12             11\n",
       "education               8              7\n",
       "marital                 4              3\n",
       "default                 3              2\n",
       "housing                 3              2\n",
       "loan                    3              2"
      ]
     },
     "execution_count": 19,
     "metadata": {},
     "output_type": "execute_result"
    }
   ],
   "source": [
    "# two step assurance for non-presence of unknown value\n",
    "unique_df=pd.DataFrame(index=unknown_cols)\n",
    "bef_rem_nuniq=[]\n",
    "aft_rem_nuniq=[]\n",
    "for i in unknown_cols:\n",
    "    bef_rem=df[i].nunique()\n",
    "    after_rem=new_df[i].nunique()\n",
    "    bef_rem_nuniq.append(bef_rem)\n",
    "    aft_rem_nuniq.append(after_rem)\n",
    "unique_df['before_removal']=bef_rem_nuniq\n",
    "unique_df['after_removal']=aft_rem_nuniq\n",
    "\n",
    "unique_df.sort_values(by='before_removal',ascending=False)"
   ]
  },
  {
   "cell_type": "code",
   "execution_count": 20,
   "id": "47117fa2",
   "metadata": {},
   "outputs": [
    {
     "data": {
      "image/png": "[encoded data removed]",
      "text/plain": [
       "<Figure size 1080x1080 with 12 Axes>"
      ]
     },
     "metadata": {
      "needs_background": "light"
     },
     "output_type": "display_data"
    }
   ],
   "source": [
    "# frequency distribution of numerical columns\n",
    "\n",
    "new_df.hist(figsize=(15,15))\n",
    "plt.title(\"FREQUENCY_DISTRIBUTION_NUMERICAL_COLUMNS\")\n",
    "plt.tight_layout()\n",
    "plt.show()"
   ]
  },
  {
   "cell_type": "code",
   "execution_count": 21,
   "id": "0570a9cc",
   "metadata": {
    "scrolled": false
   },
   "outputs": [
    {
     "data": {
      "image/png": "[encoded data removed]",
      "text/plain": [
       "<Figure size 720x360 with 1 Axes>"
      ]
     },
     "metadata": {
      "needs_background": "light"
     },
     "output_type": "display_data"
    },
    {
     "data": {
      "image/png": "[encoded data removed]",
      "text/plain": [
       "<Figure size 720x360 with 1 Axes>"
      ]
     },
     "metadata": {
      "needs_background": "light"
     },
     "output_type": "display_data"
    },
    {
     "data": {
      "image/png": "[encoded data removed]",
      "text/plain": [
       "<Figure size 720x360 with 1 Axes>"
      ]
     },
     "metadata": {
      "needs_background": "light"
     },
     "output_type": "display_data"
    },
    {
     "data": {
      "image/png": "[encoded data removed]",
      "text/plain": [
       "<Figure size 720x360 with 1 Axes>"
      ]
     },
     "metadata": {
      "needs_background": "light"
     },
     "output_type": "display_data"
    },
    {
     "data": {
      "image/png": "[encoded data removed]",
      "text/plain": [
       "<Figure size 720x360 with 1 Axes>"
      ]
     },
     "metadata": {
      "needs_background": "light"
     },
     "output_type": "display_data"
    },
    {
     "data": {
      "image/png": "[encoded data removed]",
      "text/plain": [
       "<Figure size 720x360 with 1 Axes>"
      ]
     },
     "metadata": {
      "needs_background": "light"
     },
     "output_type": "display_data"
    },
    {
     "data": {
      "image/png": "[encoded data removed]",
      "text/plain": [
       "<Figure size 720x360 with 1 Axes>"
      ]
     },
     "metadata": {
      "needs_background": "light"
     },
     "output_type": "display_data"
    },
    {
     "data": {
      "image/png": "[encoded data removed]",
      "text/plain": [
       "<Figure size 720x360 with 1 Axes>"
      ]
     },
     "metadata": {
      "needs_background": "light"
     },
     "output_type": "display_data"
    },
    {
     "data": {
      "image/png": "[encoded data removed]",
      "text/plain": [
       "<Figure size 720x360 with 1 Axes>"
      ]
     },
     "metadata": {
      "needs_background": "light"
     },
     "output_type": "display_data"
    },
    {
     "data": {
      "image/png": "[encoded data removed]",
      "text/plain": [
       "<Figure size 720x360 with 1 Axes>"
      ]
     },
     "metadata": {
      "needs_background": "light"
     },
     "output_type": "display_data"
    },
    {
     "data": {
      "image/png": "[encoded data removed]",
      "text/plain": [
       "<Figure size 720x360 with 1 Axes>"
      ]
     },
     "metadata": {
      "needs_background": "light"
     },
     "output_type": "display_data"
    },
    {
     "data": {
      "image/png": "[encoded data removed]",
      "text/plain": [
       "<Figure size 720x360 with 1 Axes>"
      ]
     },
     "metadata": {
      "needs_background": "light"
     },
     "output_type": "display_data"
    }
   ],
   "source": [
    "for i in new_df.select_dtypes(exclude=np.number):\n",
    "    plt.figure(figsize=(10,5))\n",
    "    sns.countplot(x=new_df[i])\n",
    "    plt.title(f\"COUNTPLOT_OF_{i.upper()}\")\n",
    "    plt.xticks(rotation=90)\n",
    "    plt.show()"
   ]
  },
  {
   "cell_type": "code",
   "execution_count": 22,
   "id": "2147a357",
   "metadata": {},
   "outputs": [
    {
     "data": {
      "text/plain": [
       "no     26620\n",
       "yes     3858\n",
       "Name: y, dtype: int64"
      ]
     },
     "execution_count": 22,
     "metadata": {},
     "output_type": "execute_result"
    }
   ],
   "source": [
    "# target variable\n",
    "new_df['y'].value_counts()"
   ]
  },
  {
   "cell_type": "code",
   "execution_count": 23,
   "id": "4145bd35",
   "metadata": {},
   "outputs": [
    {
     "data": {
      "text/plain": [
       "dtype('int64')"
      ]
     },
     "execution_count": 23,
     "metadata": {},
     "output_type": "execute_result"
    }
   ],
   "source": [
    "# converting target variable to binary number class\n",
    "new_df['y'].replace({\"no\":0,\"yes\":1},inplace=True)\n",
    "new_df['y'].dtype"
   ]
  },
  {
   "cell_type": "code",
   "execution_count": 24,
   "id": "599399f7",
   "metadata": {},
   "outputs": [
    {
     "data": {
      "image/png": "[encoded data removed]",
      "text/plain": [
       "<Figure size 864x432 with 1 Axes>"
      ]
     },
     "metadata": {
      "needs_background": "light"
     },
     "output_type": "display_data"
    }
   ],
   "source": [
    "# checking the relationship between no.of calls, duration and subscription\n",
    "plt.figure(figsize=(12,6))\n",
    "sns.scatterplot(x=new_df['duration'],y=new_df['campaign'],hue=new_df['y'])\n",
    "plt.title(\"RELATIONSHIP_OF_DURATION_&_NO.OF_CALLS_PERFORMED\")\n",
    "plt.ylabel(\"NO_OF_CALLS_ON_CAMPAIGN\")\n",
    "plt.legend(title='SUBSCRIPTION')\n",
    "plt.show()"
   ]
  },
  {
   "cell_type": "code",
   "execution_count": 25,
   "id": "a8c09f23",
   "metadata": {},
   "outputs": [
    {
     "data": {
      "image/png": "[encoded data removed]",
      "text/plain": [
       "<Figure size 432x288 with 1 Axes>"
      ]
     },
     "metadata": {
      "needs_background": "light"
     },
     "output_type": "display_data"
    }
   ],
   "source": [
    "# barchart to represent, age_category wise  data\n",
    "\n",
    "pd.pivot_table(data=new_df,index=new_df['age_category'],columns=new_df['y'],aggfunc='size').plot(kind='bar')\n",
    "plt.title(\"AGE_CATEGORY VS SUBSCRIPTION\")\n",
    "plt.legend(title='SUBSCRIPTION')\n",
    "plt.show()"
   ]
  },
  {
   "cell_type": "code",
   "execution_count": 26,
   "id": "d2940230",
   "metadata": {},
   "outputs": [
    {
     "data": {
      "image/png": "[encoded data removed]",
      "text/plain": [
       "<Figure size 432x288 with 1 Axes>"
      ]
     },
     "metadata": {
      "needs_background": "light"
     },
     "output_type": "display_data"
    }
   ],
   "source": [
    "# barchart to represent, marital_status wise subscription data\n",
    "pd.pivot_table(data=new_df,index=new_df['marital'],columns=new_df['y'],aggfunc='size').plot(kind='bar')\n",
    "plt.title(\"MARITAL_STATUS VS SUBSCRIPTION\")\n",
    "plt.legend(title='SUBSCRIPTION')\n",
    "plt.show()"
   ]
  },
  {
   "cell_type": "code",
   "execution_count": 27,
   "id": "b648ccb4",
   "metadata": {},
   "outputs": [
    {
     "data": {
      "image/png": "[encoded data removed]",
      "text/plain": [
       "<Figure size 432x288 with 1 Axes>"
      ]
     },
     "metadata": {
      "needs_background": "light"
     },
     "output_type": "display_data"
    }
   ],
   "source": [
    "#barchart to represent, job wise subscription data\n",
    "pd.pivot_table(data=new_df,index=new_df['job'],columns=new_df['y'],aggfunc='size').plot(kind='bar')\n",
    "plt.title(\"JOB VS SUBSCRIPTION\")\n",
    "plt.legend(title='SUBSCRIPTION')\n",
    "plt.show()"
   ]
  },
  {
   "cell_type": "code",
   "execution_count": 28,
   "id": "b1b9d39a",
   "metadata": {},
   "outputs": [
    {
     "data": {
      "image/png": "[encoded data removed]",
      "text/plain": [
       "<Figure size 432x288 with 1 Axes>"
      ]
     },
     "metadata": {
      "needs_background": "light"
     },
     "output_type": "display_data"
    }
   ],
   "source": [
    "# barchart to represent , education wise subscription data\n",
    "pd.pivot_table(data=new_df,index=new_df['education'],columns=new_df['y'],aggfunc='size').plot(kind='bar')\n",
    "plt.title(\"EDUCATION VS SUBSCRIPTION\")\n",
    "plt.legend(title='SUBSCRIPTION')\n",
    "plt.show()"
   ]
  },
  {
   "cell_type": "code",
   "execution_count": 29,
   "id": "de793f58",
   "metadata": {},
   "outputs": [
    {
     "name": "stdout",
     "output_type": "stream",
     "text": [
      "job\n",
      "marital\n",
      "education\n",
      "default\n",
      "housing\n",
      "loan\n",
      "contact\n",
      "month\n",
      "day_of_week\n",
      "poutcome\n",
      "age_category\n"
     ]
    }
   ],
   "source": [
    "for i in new_df.select_dtypes(exclude=np.number):\n",
    "    print(i)"
   ]
  },
  {
   "cell_type": "code",
   "execution_count": 30,
   "id": "1f7ef433",
   "metadata": {},
   "outputs": [
    {
     "data": {
      "image/png": "[encoded data removed]",
      "text/plain": [
       "<Figure size 864x432 with 1 Axes>"
      ]
     },
     "metadata": {
      "needs_background": "light"
     },
     "output_type": "display_data"
    }
   ],
   "source": [
    "plt.rcParams['figure.figsize']=[10,5]\n",
    "count_job_response_pct = pd.crosstab(new_df['y'],new_df['job']).apply(lambda x: x/x.sum() * 100)\n",
    "count_job_response_pct = count_job_response_pct.transpose()\n",
    "plot_job = count_job_response_pct[1].sort_values(ascending = True).plot(kind ='barh',\n",
    "                                                                           figsize = (12,6))\n",
    "                                                                               \n",
    "plt.title('Subscription Rate by Job')\n",
    "plt.xlabel('Subscription Rate')\n",
    "plt.ylabel('Job Category')\n",
    "\n",
    "# Label each bar\n",
    "for rec, label in zip(plot_job.patches,\n",
    "                      count_job_response_pct[1].sort_values(ascending = True).round(1).astype(str)):\n",
    "    plot_job.text(rec.get_width()+0.8, \n",
    "                  rec.get_y()+ rec.get_height()-0.5, \n",
    "                  label+'%', \n",
    "                  ha = 'center', \n",
    "                  va='bottom')"
   ]
  },
  {
   "cell_type": "code",
   "execution_count": 31,
   "id": "230361fe",
   "metadata": {},
   "outputs": [
    {
     "data": {
      "image/png": "[encoded data removed]",
      "text/plain": [
       "<Figure size 864x360 with 2 Axes>"
      ]
     },
     "metadata": {
      "needs_background": "light"
     },
     "output_type": "display_data"
    }
   ],
   "source": [
    "# correlation matrix\n",
    "\n",
    "plt.figure(figsize=(12,5))\n",
    "sns.heatmap(new_df.corr(),annot=True)\n",
    "plt.title(\"CORRELATION_MATRIX\")\n",
    "plt.show()"
   ]
  },
  {
   "cell_type": "code",
   "execution_count": 32,
   "id": "49c0814e",
   "metadata": {},
   "outputs": [
    {
     "data": {
      "text/plain": [
       "Index(['job', 'marital', 'education', 'default', 'housing', 'loan', 'contact',\n",
       "       'month', 'day_of_week', 'poutcome', 'age_category'],\n",
       "      dtype='object')"
      ]
     },
     "execution_count": 32,
     "metadata": {},
     "output_type": "execute_result"
    }
   ],
   "source": [
    "# splitting master_df to numerical and categorical datsets to perform encoding and scaling\n",
    "df_num=new_df.select_dtypes(include=np.number)\n",
    "df_cat=new_df.select_dtypes(exclude=np.number)\n",
    "df_cat.columns"
   ]
  },
  {
   "cell_type": "code",
   "execution_count": 33,
   "id": "2b44daa5",
   "metadata": {},
   "outputs": [
    {
     "data": {
      "text/html": [
       "<div>\n",
       "<style scoped>\n",
       "    .dataframe tbody tr th:only-of-type {\n",
       "        vertical-align: middle;\n",
       "    }\n",
       "\n",
       "    .dataframe tbody tr th {\n",
       "        vertical-align: top;\n",
       "    }\n",
       "\n",
       "    .dataframe thead th {\n",
       "        text-align: right;\n",
       "    }\n",
       "</style>\n",
       "<table border=\"1\" class=\"dataframe\">\n",
       "  <thead>\n",
       "    <tr style=\"text-align: right;\">\n",
       "      <th></th>\n",
       "      <th>nunique</th>\n",
       "    </tr>\n",
       "  </thead>\n",
       "  <tbody>\n",
       "    <tr>\n",
       "      <th>job</th>\n",
       "      <td>11</td>\n",
       "    </tr>\n",
       "    <tr>\n",
       "      <th>month</th>\n",
       "      <td>10</td>\n",
       "    </tr>\n",
       "    <tr>\n",
       "      <th>education</th>\n",
       "      <td>7</td>\n",
       "    </tr>\n",
       "    <tr>\n",
       "      <th>day_of_week</th>\n",
       "      <td>5</td>\n",
       "    </tr>\n",
       "    <tr>\n",
       "      <th>age_category</th>\n",
       "      <td>4</td>\n",
       "    </tr>\n",
       "    <tr>\n",
       "      <th>marital</th>\n",
       "      <td>3</td>\n",
       "    </tr>\n",
       "    <tr>\n",
       "      <th>poutcome</th>\n",
       "      <td>3</td>\n",
       "    </tr>\n",
       "    <tr>\n",
       "      <th>default</th>\n",
       "      <td>2</td>\n",
       "    </tr>\n",
       "    <tr>\n",
       "      <th>housing</th>\n",
       "      <td>2</td>\n",
       "    </tr>\n",
       "    <tr>\n",
       "      <th>loan</th>\n",
       "      <td>2</td>\n",
       "    </tr>\n",
       "    <tr>\n",
       "      <th>contact</th>\n",
       "      <td>2</td>\n",
       "    </tr>\n",
       "  </tbody>\n",
       "</table>\n",
       "</div>"
      ],
      "text/plain": [
       "              nunique\n",
       "job                11\n",
       "month              10\n",
       "education           7\n",
       "day_of_week         5\n",
       "age_category        4\n",
       "marital             3\n",
       "poutcome            3\n",
       "default             2\n",
       "housing             2\n",
       "loan                2\n",
       "contact             2"
      ]
     },
     "execution_count": 33,
     "metadata": {},
     "output_type": "execute_result"
    }
   ],
   "source": [
    "# finding no_of_unique_values in a column to check the hierarchy and to choose suitable encoding technique\n",
    "nunique_df=pd.DataFrame(index=df_cat.columns)\n",
    "nunique=[]\n",
    "for i in df_cat.columns:\n",
    "    unique_count=df_cat[i].nunique()\n",
    "    nunique.append(unique_count)\n",
    "nunique_df['nunique']=nunique\n",
    "nunique_df.sort_values(by='nunique',ascending=False)"
   ]
  },
  {
   "cell_type": "code",
   "execution_count": 34,
   "id": "20421a4c",
   "metadata": {},
   "outputs": [
    {
     "data": {
      "text/html": [
       "<div>\n",
       "<style scoped>\n",
       "    .dataframe tbody tr th:only-of-type {\n",
       "        vertical-align: middle;\n",
       "    }\n",
       "\n",
       "    .dataframe tbody tr th {\n",
       "        vertical-align: top;\n",
       "    }\n",
       "\n",
       "    .dataframe thead th {\n",
       "        text-align: right;\n",
       "    }\n",
       "</style>\n",
       "<table border=\"1\" class=\"dataframe\">\n",
       "  <thead>\n",
       "    <tr style=\"text-align: right;\">\n",
       "      <th></th>\n",
       "      <th>nunique</th>\n",
       "    </tr>\n",
       "  </thead>\n",
       "  <tbody>\n",
       "    <tr>\n",
       "      <th>job</th>\n",
       "      <td>11</td>\n",
       "    </tr>\n",
       "    <tr>\n",
       "      <th>month</th>\n",
       "      <td>10</td>\n",
       "    </tr>\n",
       "    <tr>\n",
       "      <th>education</th>\n",
       "      <td>7</td>\n",
       "    </tr>\n",
       "    <tr>\n",
       "      <th>day_of_week</th>\n",
       "      <td>5</td>\n",
       "    </tr>\n",
       "    <tr>\n",
       "      <th>age_category</th>\n",
       "      <td>4</td>\n",
       "    </tr>\n",
       "    <tr>\n",
       "      <th>marital</th>\n",
       "      <td>3</td>\n",
       "    </tr>\n",
       "    <tr>\n",
       "      <th>poutcome</th>\n",
       "      <td>3</td>\n",
       "    </tr>\n",
       "  </tbody>\n",
       "</table>\n",
       "</div>"
      ],
      "text/plain": [
       "              nunique\n",
       "job                11\n",
       "month              10\n",
       "education           7\n",
       "day_of_week         5\n",
       "age_category        4\n",
       "marital             3\n",
       "poutcome            3"
      ]
     },
     "execution_count": 34,
     "metadata": {},
     "output_type": "execute_result"
    }
   ],
   "source": [
    "# selecting columns with unique values greater than 2\n",
    "label_encod=nunique_df[nunique_df['nunique']>2]\n",
    "label_encod.sort_values(by='nunique',ascending=False)"
   ]
  },
  {
   "cell_type": "code",
   "execution_count": 35,
   "id": "b9450669",
   "metadata": {},
   "outputs": [],
   "source": [
    "# for columns with no_hierarchy and class greater than 2 choosing label_encoder technique\n",
    "label_encod=nunique_df[nunique_df['nunique']>2]\n",
    "label_encod.sort_values(by='nunique',ascending=False)\n",
    "\n",
    "lab_enc=LabelEncoder()\n",
    "for i in label_encod.index:\n",
    "    df_cat[i]=lab_enc.fit_transform(df_cat[i])"
   ]
  },
  {
   "cell_type": "code",
   "execution_count": 36,
   "id": "0f6ff341",
   "metadata": {},
   "outputs": [],
   "source": [
    "# for columns with binary classes replacing is carrried out\n",
    "replace=nunique_df[nunique_df['nunique']<=2]\n",
    "\n",
    "for i in replace.index:\n",
    "    df_cat[i].replace({\"no\":0,\"yes\":1},inplace=True)\n",
    "    df_cat[i].replace({\"cellular\":0,\"telephone\":1},inplace=True)"
   ]
  },
  {
   "cell_type": "code",
   "execution_count": 37,
   "id": "81f3d3d1",
   "metadata": {},
   "outputs": [
    {
     "data": {
      "text/html": [
       "<div>\n",
       "<style scoped>\n",
       "    .dataframe tbody tr th:only-of-type {\n",
       "        vertical-align: middle;\n",
       "    }\n",
       "\n",
       "    .dataframe tbody tr th {\n",
       "        vertical-align: top;\n",
       "    }\n",
       "\n",
       "    .dataframe thead th {\n",
       "        text-align: right;\n",
       "    }\n",
       "</style>\n",
       "<table border=\"1\" class=\"dataframe\">\n",
       "  <thead>\n",
       "    <tr style=\"text-align: right;\">\n",
       "      <th></th>\n",
       "      <th>job</th>\n",
       "      <th>marital</th>\n",
       "      <th>education</th>\n",
       "      <th>default</th>\n",
       "      <th>housing</th>\n",
       "      <th>loan</th>\n",
       "      <th>contact</th>\n",
       "      <th>month</th>\n",
       "      <th>day_of_week</th>\n",
       "      <th>poutcome</th>\n",
       "      <th>age_category</th>\n",
       "    </tr>\n",
       "  </thead>\n",
       "  <tbody>\n",
       "    <tr>\n",
       "      <th>2739</th>\n",
       "      <td>1</td>\n",
       "      <td>1</td>\n",
       "      <td>5</td>\n",
       "      <td>0</td>\n",
       "      <td>0</td>\n",
       "      <td>1</td>\n",
       "      <td>1</td>\n",
       "      <td>6</td>\n",
       "      <td>4</td>\n",
       "      <td>1</td>\n",
       "      <td>3</td>\n",
       "    </tr>\n",
       "    <tr>\n",
       "      <th>25126</th>\n",
       "      <td>7</td>\n",
       "      <td>1</td>\n",
       "      <td>6</td>\n",
       "      <td>0</td>\n",
       "      <td>0</td>\n",
       "      <td>0</td>\n",
       "      <td>0</td>\n",
       "      <td>7</td>\n",
       "      <td>3</td>\n",
       "      <td>1</td>\n",
       "      <td>0</td>\n",
       "    </tr>\n",
       "    <tr>\n",
       "      <th>31049</th>\n",
       "      <td>7</td>\n",
       "      <td>1</td>\n",
       "      <td>1</td>\n",
       "      <td>0</td>\n",
       "      <td>1</td>\n",
       "      <td>0</td>\n",
       "      <td>0</td>\n",
       "      <td>6</td>\n",
       "      <td>4</td>\n",
       "      <td>1</td>\n",
       "      <td>0</td>\n",
       "    </tr>\n",
       "    <tr>\n",
       "      <th>2247</th>\n",
       "      <td>10</td>\n",
       "      <td>2</td>\n",
       "      <td>3</td>\n",
       "      <td>0</td>\n",
       "      <td>0</td>\n",
       "      <td>0</td>\n",
       "      <td>1</td>\n",
       "      <td>6</td>\n",
       "      <td>3</td>\n",
       "      <td>1</td>\n",
       "      <td>3</td>\n",
       "    </tr>\n",
       "    <tr>\n",
       "      <th>13334</th>\n",
       "      <td>2</td>\n",
       "      <td>0</td>\n",
       "      <td>6</td>\n",
       "      <td>0</td>\n",
       "      <td>0</td>\n",
       "      <td>1</td>\n",
       "      <td>0</td>\n",
       "      <td>3</td>\n",
       "      <td>4</td>\n",
       "      <td>1</td>\n",
       "      <td>0</td>\n",
       "    </tr>\n",
       "    <tr>\n",
       "      <th>33073</th>\n",
       "      <td>9</td>\n",
       "      <td>1</td>\n",
       "      <td>6</td>\n",
       "      <td>0</td>\n",
       "      <td>0</td>\n",
       "      <td>0</td>\n",
       "      <td>0</td>\n",
       "      <td>6</td>\n",
       "      <td>3</td>\n",
       "      <td>1</td>\n",
       "      <td>3</td>\n",
       "    </tr>\n",
       "    <tr>\n",
       "      <th>18234</th>\n",
       "      <td>7</td>\n",
       "      <td>1</td>\n",
       "      <td>1</td>\n",
       "      <td>0</td>\n",
       "      <td>0</td>\n",
       "      <td>0</td>\n",
       "      <td>1</td>\n",
       "      <td>3</td>\n",
       "      <td>4</td>\n",
       "      <td>1</td>\n",
       "      <td>3</td>\n",
       "    </tr>\n",
       "    <tr>\n",
       "      <th>15664</th>\n",
       "      <td>6</td>\n",
       "      <td>2</td>\n",
       "      <td>3</td>\n",
       "      <td>0</td>\n",
       "      <td>0</td>\n",
       "      <td>0</td>\n",
       "      <td>0</td>\n",
       "      <td>3</td>\n",
       "      <td>1</td>\n",
       "      <td>1</td>\n",
       "      <td>3</td>\n",
       "    </tr>\n",
       "    <tr>\n",
       "      <th>37009</th>\n",
       "      <td>0</td>\n",
       "      <td>1</td>\n",
       "      <td>6</td>\n",
       "      <td>0</td>\n",
       "      <td>1</td>\n",
       "      <td>0</td>\n",
       "      <td>0</td>\n",
       "      <td>3</td>\n",
       "      <td>1</td>\n",
       "      <td>1</td>\n",
       "      <td>0</td>\n",
       "    </tr>\n",
       "    <tr>\n",
       "      <th>40218</th>\n",
       "      <td>3</td>\n",
       "      <td>0</td>\n",
       "      <td>0</td>\n",
       "      <td>0</td>\n",
       "      <td>0</td>\n",
       "      <td>0</td>\n",
       "      <td>0</td>\n",
       "      <td>3</td>\n",
       "      <td>4</td>\n",
       "      <td>1</td>\n",
       "      <td>2</td>\n",
       "    </tr>\n",
       "  </tbody>\n",
       "</table>\n",
       "</div>"
      ],
      "text/plain": [
       "       job  marital  education  default  housing  loan  contact  month  \\\n",
       "2739     1        1          5        0        0     1        1      6   \n",
       "25126    7        1          6        0        0     0        0      7   \n",
       "31049    7        1          1        0        1     0        0      6   \n",
       "2247    10        2          3        0        0     0        1      6   \n",
       "13334    2        0          6        0        0     1        0      3   \n",
       "33073    9        1          6        0        0     0        0      6   \n",
       "18234    7        1          1        0        0     0        1      3   \n",
       "15664    6        2          3        0        0     0        0      3   \n",
       "37009    0        1          6        0        1     0        0      3   \n",
       "40218    3        0          0        0        0     0        0      3   \n",
       "\n",
       "       day_of_week  poutcome  age_category  \n",
       "2739             4         1             3  \n",
       "25126            3         1             0  \n",
       "31049            4         1             0  \n",
       "2247             3         1             3  \n",
       "13334            4         1             0  \n",
       "33073            3         1             3  \n",
       "18234            4         1             3  \n",
       "15664            1         1             3  \n",
       "37009            1         1             0  \n",
       "40218            4         1             2  "
      ]
     },
     "execution_count": 37,
     "metadata": {},
     "output_type": "execute_result"
    }
   ],
   "source": [
    "# checking for encoding made properly on cat.columns\n",
    "df_cat.sample(10)"
   ]
  },
  {
   "cell_type": "code",
   "execution_count": 38,
   "id": "2112e911",
   "metadata": {},
   "outputs": [
    {
     "data": {
      "text/html": [
       "<div>\n",
       "<style scoped>\n",
       "    .dataframe tbody tr th:only-of-type {\n",
       "        vertical-align: middle;\n",
       "    }\n",
       "\n",
       "    .dataframe tbody tr th {\n",
       "        vertical-align: top;\n",
       "    }\n",
       "\n",
       "    .dataframe thead th {\n",
       "        text-align: right;\n",
       "    }\n",
       "</style>\n",
       "<table border=\"1\" class=\"dataframe\">\n",
       "  <thead>\n",
       "    <tr style=\"text-align: right;\">\n",
       "      <th></th>\n",
       "      <th>age</th>\n",
       "      <th>duration</th>\n",
       "      <th>campaign</th>\n",
       "      <th>pdays</th>\n",
       "      <th>previous</th>\n",
       "      <th>emp.var.rate</th>\n",
       "      <th>cons.price.idx</th>\n",
       "      <th>cons.conf.idx</th>\n",
       "      <th>euribor3m</th>\n",
       "      <th>nr.employed</th>\n",
       "      <th>y</th>\n",
       "      <th>job</th>\n",
       "      <th>marital</th>\n",
       "      <th>education</th>\n",
       "      <th>default</th>\n",
       "      <th>housing</th>\n",
       "      <th>loan</th>\n",
       "      <th>contact</th>\n",
       "      <th>month</th>\n",
       "      <th>day_of_week</th>\n",
       "      <th>poutcome</th>\n",
       "      <th>age_category</th>\n",
       "    </tr>\n",
       "  </thead>\n",
       "  <tbody>\n",
       "    <tr>\n",
       "      <th>0</th>\n",
       "      <td>56</td>\n",
       "      <td>261</td>\n",
       "      <td>1</td>\n",
       "      <td>999</td>\n",
       "      <td>0</td>\n",
       "      <td>1.1</td>\n",
       "      <td>93.994</td>\n",
       "      <td>-36.4</td>\n",
       "      <td>4.857</td>\n",
       "      <td>5191.0</td>\n",
       "      <td>0</td>\n",
       "      <td>3</td>\n",
       "      <td>1</td>\n",
       "      <td>0</td>\n",
       "      <td>0</td>\n",
       "      <td>0</td>\n",
       "      <td>0</td>\n",
       "      <td>1</td>\n",
       "      <td>6</td>\n",
       "      <td>1</td>\n",
       "      <td>1</td>\n",
       "      <td>0</td>\n",
       "    </tr>\n",
       "    <tr>\n",
       "      <th>2</th>\n",
       "      <td>37</td>\n",
       "      <td>226</td>\n",
       "      <td>1</td>\n",
       "      <td>999</td>\n",
       "      <td>0</td>\n",
       "      <td>1.1</td>\n",
       "      <td>93.994</td>\n",
       "      <td>-36.4</td>\n",
       "      <td>4.857</td>\n",
       "      <td>5191.0</td>\n",
       "      <td>0</td>\n",
       "      <td>7</td>\n",
       "      <td>1</td>\n",
       "      <td>1</td>\n",
       "      <td>0</td>\n",
       "      <td>1</td>\n",
       "      <td>0</td>\n",
       "      <td>1</td>\n",
       "      <td>6</td>\n",
       "      <td>1</td>\n",
       "      <td>1</td>\n",
       "      <td>0</td>\n",
       "    </tr>\n",
       "    <tr>\n",
       "      <th>3</th>\n",
       "      <td>40</td>\n",
       "      <td>151</td>\n",
       "      <td>1</td>\n",
       "      <td>999</td>\n",
       "      <td>0</td>\n",
       "      <td>1.1</td>\n",
       "      <td>93.994</td>\n",
       "      <td>-36.4</td>\n",
       "      <td>4.857</td>\n",
       "      <td>5191.0</td>\n",
       "      <td>0</td>\n",
       "      <td>0</td>\n",
       "      <td>1</td>\n",
       "      <td>4</td>\n",
       "      <td>0</td>\n",
       "      <td>0</td>\n",
       "      <td>0</td>\n",
       "      <td>1</td>\n",
       "      <td>6</td>\n",
       "      <td>1</td>\n",
       "      <td>1</td>\n",
       "      <td>0</td>\n",
       "    </tr>\n",
       "    <tr>\n",
       "      <th>4</th>\n",
       "      <td>56</td>\n",
       "      <td>307</td>\n",
       "      <td>1</td>\n",
       "      <td>999</td>\n",
       "      <td>0</td>\n",
       "      <td>1.1</td>\n",
       "      <td>93.994</td>\n",
       "      <td>-36.4</td>\n",
       "      <td>4.857</td>\n",
       "      <td>5191.0</td>\n",
       "      <td>0</td>\n",
       "      <td>7</td>\n",
       "      <td>1</td>\n",
       "      <td>1</td>\n",
       "      <td>0</td>\n",
       "      <td>0</td>\n",
       "      <td>1</td>\n",
       "      <td>1</td>\n",
       "      <td>6</td>\n",
       "      <td>1</td>\n",
       "      <td>1</td>\n",
       "      <td>0</td>\n",
       "    </tr>\n",
       "    <tr>\n",
       "      <th>6</th>\n",
       "      <td>59</td>\n",
       "      <td>139</td>\n",
       "      <td>1</td>\n",
       "      <td>999</td>\n",
       "      <td>0</td>\n",
       "      <td>1.1</td>\n",
       "      <td>93.994</td>\n",
       "      <td>-36.4</td>\n",
       "      <td>4.857</td>\n",
       "      <td>5191.0</td>\n",
       "      <td>0</td>\n",
       "      <td>0</td>\n",
       "      <td>1</td>\n",
       "      <td>3</td>\n",
       "      <td>0</td>\n",
       "      <td>0</td>\n",
       "      <td>0</td>\n",
       "      <td>1</td>\n",
       "      <td>6</td>\n",
       "      <td>1</td>\n",
       "      <td>1</td>\n",
       "      <td>0</td>\n",
       "    </tr>\n",
       "  </tbody>\n",
       "</table>\n",
       "</div>"
      ],
      "text/plain": [
       "   age  duration  campaign  pdays  previous  emp.var.rate  cons.price.idx  \\\n",
       "0   56       261         1    999         0           1.1          93.994   \n",
       "2   37       226         1    999         0           1.1          93.994   \n",
       "3   40       151         1    999         0           1.1          93.994   \n",
       "4   56       307         1    999         0           1.1          93.994   \n",
       "6   59       139         1    999         0           1.1          93.994   \n",
       "\n",
       "   cons.conf.idx  euribor3m  nr.employed  y  job  marital  education  default  \\\n",
       "0          -36.4      4.857       5191.0  0    3        1          0        0   \n",
       "2          -36.4      4.857       5191.0  0    7        1          1        0   \n",
       "3          -36.4      4.857       5191.0  0    0        1          4        0   \n",
       "4          -36.4      4.857       5191.0  0    7        1          1        0   \n",
       "6          -36.4      4.857       5191.0  0    0        1          3        0   \n",
       "\n",
       "   housing  loan  contact  month  day_of_week  poutcome  age_category  \n",
       "0        0     0        1      6            1         1             0  \n",
       "2        1     0        1      6            1         1             0  \n",
       "3        0     0        1      6            1         1             0  \n",
       "4        0     1        1      6            1         1             0  \n",
       "6        0     0        1      6            1         1             0  "
      ]
     },
     "execution_count": 38,
     "metadata": {},
     "output_type": "execute_result"
    }
   ],
   "source": [
    "# concatenating numerical columns with categorical columns\n",
    "df_encod=pd.concat([df_num,df_cat],axis=1)\n",
    "df_encod.head()"
   ]
  },
  {
   "cell_type": "code",
   "execution_count": 39,
   "id": "6aec8b81",
   "metadata": {},
   "outputs": [],
   "source": [
    "# splitting encoded df into independent and dependent variables\n",
    "X=df_encod.drop(['age','y'],axis=1)\n",
    "y=df_encod['y']"
   ]
  },
  {
   "cell_type": "code",
   "execution_count": 40,
   "id": "631befa8",
   "metadata": {},
   "outputs": [
    {
     "data": {
      "text/plain": [
       "0    26620\n",
       "1     3858\n",
       "Name: y, dtype: int64"
      ]
     },
     "execution_count": 40,
     "metadata": {},
     "output_type": "execute_result"
    }
   ],
   "source": [
    "y.value_counts()"
   ]
  },
  {
   "cell_type": "code",
   "execution_count": 41,
   "id": "480c2e8b",
   "metadata": {},
   "outputs": [],
   "source": [
    "# since, target variable has class imbalance, SMOTE technique is used to replicate the minority class  \n",
    "sampling_strategy = 1.0  \n",
    "smote = SMOTE(sampling_strategy=sampling_strategy, random_state=42)\n",
    "X_res, y_res = smote.fit_resample(X, y)"
   ]
  },
  {
   "cell_type": "code",
   "execution_count": 42,
   "id": "158d44a0",
   "metadata": {},
   "outputs": [
    {
     "name": "stdout",
     "output_type": "stream",
     "text": [
      "xtrain =  (37268, 20)\n",
      "xtest =  (15972, 20)\n",
      "ytrain =  (37268,)\n",
      "ytest =  (15972,)\n"
     ]
    }
   ],
   "source": [
    "# splitting independent and dependent variables, into train and test\n",
    "xtrain,xtest,ytrain,ytest=train_test_split(X_res,y_res,test_size=0.3,random_state=100)\n",
    "print(\"xtrain = \",xtrain.shape)\n",
    "print(\"xtest = \",xtest.shape)\n",
    "print(\"ytrain = \",ytrain.shape)\n",
    "print(\"ytest = \",ytest.shape)"
   ]
  },
  {
   "cell_type": "code",
   "execution_count": 43,
   "id": "029a593e",
   "metadata": {},
   "outputs": [
    {
     "data": {
      "text/plain": [
       "Index(['age', 'duration', 'campaign', 'pdays', 'previous', 'emp.var.rate',\n",
       "       'cons.price.idx', 'cons.conf.idx', 'euribor3m', 'nr.employed', 'y'],\n",
       "      dtype='object')"
      ]
     },
     "execution_count": 43,
     "metadata": {},
     "output_type": "execute_result"
    }
   ],
   "source": [
    "df_num.columns"
   ]
  },
  {
   "cell_type": "code",
   "execution_count": 44,
   "id": "e49f3782",
   "metadata": {},
   "outputs": [
    {
     "data": {
      "text/html": [
       "<div>\n",
       "<style scoped>\n",
       "    .dataframe tbody tr th:only-of-type {\n",
       "        vertical-align: middle;\n",
       "    }\n",
       "\n",
       "    .dataframe tbody tr th {\n",
       "        vertical-align: top;\n",
       "    }\n",
       "\n",
       "    .dataframe thead th {\n",
       "        text-align: right;\n",
       "    }\n",
       "</style>\n",
       "<table border=\"1\" class=\"dataframe\">\n",
       "  <thead>\n",
       "    <tr style=\"text-align: right;\">\n",
       "      <th></th>\n",
       "      <th>duration</th>\n",
       "      <th>campaign</th>\n",
       "      <th>pdays</th>\n",
       "      <th>previous</th>\n",
       "      <th>emp.var.rate</th>\n",
       "      <th>cons.price.idx</th>\n",
       "      <th>cons.conf.idx</th>\n",
       "      <th>euribor3m</th>\n",
       "      <th>nr.employed</th>\n",
       "    </tr>\n",
       "  </thead>\n",
       "  <tbody>\n",
       "    <tr>\n",
       "      <th>count</th>\n",
       "      <td>3.726800e+04</td>\n",
       "      <td>3.726800e+04</td>\n",
       "      <td>3.726800e+04</td>\n",
       "      <td>3.726800e+04</td>\n",
       "      <td>3.726800e+04</td>\n",
       "      <td>3.726800e+04</td>\n",
       "      <td>3.726800e+04</td>\n",
       "      <td>3.726800e+04</td>\n",
       "      <td>3.726800e+04</td>\n",
       "    </tr>\n",
       "    <tr>\n",
       "      <th>mean</th>\n",
       "      <td>-4.845384e-17</td>\n",
       "      <td>-8.446608e-16</td>\n",
       "      <td>-3.156903e-16</td>\n",
       "      <td>1.220492e-15</td>\n",
       "      <td>-1.423995e-15</td>\n",
       "      <td>2.716603e-15</td>\n",
       "      <td>-4.962519e-16</td>\n",
       "      <td>-5.451020e-17</td>\n",
       "      <td>2.910329e-15</td>\n",
       "    </tr>\n",
       "    <tr>\n",
       "      <th>std</th>\n",
       "      <td>1.000013e+00</td>\n",
       "      <td>1.000013e+00</td>\n",
       "      <td>1.000013e+00</td>\n",
       "      <td>1.000013e+00</td>\n",
       "      <td>1.000013e+00</td>\n",
       "      <td>1.000013e+00</td>\n",
       "      <td>1.000013e+00</td>\n",
       "      <td>1.000013e+00</td>\n",
       "      <td>1.000013e+00</td>\n",
       "    </tr>\n",
       "    <tr>\n",
       "      <th>min</th>\n",
       "      <td>-1.079319e+00</td>\n",
       "      <td>-5.196285e-01</td>\n",
       "      <td>-2.747310e+00</td>\n",
       "      <td>-4.358575e-01</td>\n",
       "      <td>-1.613258e+00</td>\n",
       "      <td>-1.972896e+00</td>\n",
       "      <td>-1.948443e+00</td>\n",
       "      <td>-1.162420e+00</td>\n",
       "      <td>-1.901244e+00</td>\n",
       "    </tr>\n",
       "    <tr>\n",
       "      <th>25%</th>\n",
       "      <td>-6.645694e-01</td>\n",
       "      <td>-5.196285e-01</td>\n",
       "      <td>3.662559e-01</td>\n",
       "      <td>-4.358575e-01</td>\n",
       "      <td>-6.787577e-01</td>\n",
       "      <td>-8.679607e-01</td>\n",
       "      <td>-8.579648e-01</td>\n",
       "      <td>-9.505331e-01</td>\n",
       "      <td>-6.100943e-01</td>\n",
       "    </tr>\n",
       "    <tr>\n",
       "      <th>50%</th>\n",
       "      <td>-3.310297e-01</td>\n",
       "      <td>-5.196285e-01</td>\n",
       "      <td>3.662559e-01</td>\n",
       "      <td>-4.358575e-01</td>\n",
       "      <td>-2.699138e-01</td>\n",
       "      <td>1.183639e-02</td>\n",
       "      <td>-2.882202e-01</td>\n",
       "      <td>-7.385183e-01</td>\n",
       "      <td>-3.475070e-01</td>\n",
       "    </tr>\n",
       "    <tr>\n",
       "      <th>75%</th>\n",
       "      <td>3.418502e-01</td>\n",
       "      <td>-6.741677e-02</td>\n",
       "      <td>3.662559e-01</td>\n",
       "      <td>-4.358575e-01</td>\n",
       "      <td>1.190243e+00</td>\n",
       "      <td>8.900368e-01</td>\n",
       "      <td>7.079132e-01</td>\n",
       "      <td>1.139255e+00</td>\n",
       "      <td>1.131696e+00</td>\n",
       "    </tr>\n",
       "    <tr>\n",
       "      <th>max</th>\n",
       "      <td>1.318458e+01</td>\n",
       "      <td>1.847326e+01</td>\n",
       "      <td>3.662559e-01</td>\n",
       "      <td>9.482851e+00</td>\n",
       "      <td>1.190243e+00</td>\n",
       "      <td>2.124307e+00</td>\n",
       "      <td>2.460370e+00</td>\n",
       "      <td>1.187195e+00</td>\n",
       "      <td>1.131696e+00</td>\n",
       "    </tr>\n",
       "  </tbody>\n",
       "</table>\n",
       "</div>"
      ],
      "text/plain": [
       "           duration      campaign         pdays      previous  emp.var.rate  \\\n",
       "count  3.726800e+04  3.726800e+04  3.726800e+04  3.726800e+04  3.726800e+04   \n",
       "mean  -4.845384e-17 -8.446608e-16 -3.156903e-16  1.220492e-15 -1.423995e-15   \n",
       "std    1.000013e+00  1.000013e+00  1.000013e+00  1.000013e+00  1.000013e+00   \n",
       "min   -1.079319e+00 -5.196285e-01 -2.747310e+00 -4.358575e-01 -1.613258e+00   \n",
       "25%   -6.645694e-01 -5.196285e-01  3.662559e-01 -4.358575e-01 -6.787577e-01   \n",
       "50%   -3.310297e-01 -5.196285e-01  3.662559e-01 -4.358575e-01 -2.699138e-01   \n",
       "75%    3.418502e-01 -6.741677e-02  3.662559e-01 -4.358575e-01  1.190243e+00   \n",
       "max    1.318458e+01  1.847326e+01  3.662559e-01  9.482851e+00  1.190243e+00   \n",
       "\n",
       "       cons.price.idx  cons.conf.idx     euribor3m   nr.employed  \n",
       "count    3.726800e+04   3.726800e+04  3.726800e+04  3.726800e+04  \n",
       "mean     2.716603e-15  -4.962519e-16 -5.451020e-17  2.910329e-15  \n",
       "std      1.000013e+00   1.000013e+00  1.000013e+00  1.000013e+00  \n",
       "min     -1.972896e+00  -1.948443e+00 -1.162420e+00 -1.901244e+00  \n",
       "25%     -8.679607e-01  -8.579648e-01 -9.505331e-01 -6.100943e-01  \n",
       "50%      1.183639e-02  -2.882202e-01 -7.385183e-01 -3.475070e-01  \n",
       "75%      8.900368e-01   7.079132e-01  1.139255e+00  1.131696e+00  \n",
       "max      2.124307e+00   2.460370e+00  1.187195e+00  1.131696e+00  "
      ]
     },
     "execution_count": 44,
     "metadata": {},
     "output_type": "execute_result"
    }
   ],
   "source": [
    "# splitting xtrain numerical columns and performing scaling on numerical columns alone \n",
    "xtrain_num=xtrain[df_num.columns[1:-1]]\n",
    "sc=StandardScaler()\n",
    "sc_xtrain=sc.fit_transform(xtrain_num)\n",
    "xtrain_sc=pd.DataFrame(sc_xtrain,columns=xtrain_num.columns,index=xtrain_num.index)\n",
    "xtrain_sc.describe()"
   ]
  },
  {
   "cell_type": "code",
   "execution_count": 45,
   "id": "8acaecea",
   "metadata": {},
   "outputs": [
    {
     "data": {
      "text/html": [
       "<div>\n",
       "<style scoped>\n",
       "    .dataframe tbody tr th:only-of-type {\n",
       "        vertical-align: middle;\n",
       "    }\n",
       "\n",
       "    .dataframe tbody tr th {\n",
       "        vertical-align: top;\n",
       "    }\n",
       "\n",
       "    .dataframe thead th {\n",
       "        text-align: right;\n",
       "    }\n",
       "</style>\n",
       "<table border=\"1\" class=\"dataframe\">\n",
       "  <thead>\n",
       "    <tr style=\"text-align: right;\">\n",
       "      <th></th>\n",
       "      <th>duration</th>\n",
       "      <th>campaign</th>\n",
       "      <th>pdays</th>\n",
       "      <th>previous</th>\n",
       "      <th>emp.var.rate</th>\n",
       "      <th>cons.price.idx</th>\n",
       "      <th>cons.conf.idx</th>\n",
       "      <th>euribor3m</th>\n",
       "      <th>nr.employed</th>\n",
       "    </tr>\n",
       "  </thead>\n",
       "  <tbody>\n",
       "    <tr>\n",
       "      <th>count</th>\n",
       "      <td>15972.000000</td>\n",
       "      <td>15972.000000</td>\n",
       "      <td>15972.000000</td>\n",
       "      <td>15972.000000</td>\n",
       "      <td>15972.000000</td>\n",
       "      <td>15972.000000</td>\n",
       "      <td>15972.000000</td>\n",
       "      <td>15972.000000</td>\n",
       "      <td>15972.000000</td>\n",
       "    </tr>\n",
       "    <tr>\n",
       "      <th>mean</th>\n",
       "      <td>0.016162</td>\n",
       "      <td>0.005913</td>\n",
       "      <td>0.006065</td>\n",
       "      <td>-0.009226</td>\n",
       "      <td>0.017383</td>\n",
       "      <td>0.016089</td>\n",
       "      <td>-0.012570</td>\n",
       "      <td>0.015830</td>\n",
       "      <td>0.016156</td>\n",
       "    </tr>\n",
       "    <tr>\n",
       "      <th>std</th>\n",
       "      <td>1.034048</td>\n",
       "      <td>1.052529</td>\n",
       "      <td>0.992776</td>\n",
       "      <td>0.975050</td>\n",
       "      <td>1.001183</td>\n",
       "      <td>1.009570</td>\n",
       "      <td>0.993442</td>\n",
       "      <td>1.001214</td>\n",
       "      <td>1.000336</td>\n",
       "    </tr>\n",
       "    <tr>\n",
       "      <th>min</th>\n",
       "      <td>-1.079319</td>\n",
       "      <td>-0.519628</td>\n",
       "      <td>-2.747310</td>\n",
       "      <td>-0.435858</td>\n",
       "      <td>-1.613258</td>\n",
       "      <td>-1.972896</td>\n",
       "      <td>-1.948443</td>\n",
       "      <td>-1.162420</td>\n",
       "      <td>-1.901244</td>\n",
       "    </tr>\n",
       "    <tr>\n",
       "      <th>25%</th>\n",
       "      <td>-0.661669</td>\n",
       "      <td>-0.519628</td>\n",
       "      <td>0.366256</td>\n",
       "      <td>-0.435858</td>\n",
       "      <td>-0.678758</td>\n",
       "      <td>-0.867961</td>\n",
       "      <td>-0.974935</td>\n",
       "      <td>-0.943204</td>\n",
       "      <td>-0.610094</td>\n",
       "    </tr>\n",
       "    <tr>\n",
       "      <th>50%</th>\n",
       "      <td>-0.328129</td>\n",
       "      <td>-0.519628</td>\n",
       "      <td>0.366256</td>\n",
       "      <td>-0.435858</td>\n",
       "      <td>-0.269914</td>\n",
       "      <td>0.011836</td>\n",
       "      <td>-0.288220</td>\n",
       "      <td>-0.730423</td>\n",
       "      <td>-0.347507</td>\n",
       "    </tr>\n",
       "    <tr>\n",
       "      <th>75%</th>\n",
       "      <td>0.373754</td>\n",
       "      <td>-0.067417</td>\n",
       "      <td>0.366256</td>\n",
       "      <td>-0.435858</td>\n",
       "      <td>1.190243</td>\n",
       "      <td>0.890037</td>\n",
       "      <td>0.707913</td>\n",
       "      <td>1.140320</td>\n",
       "      <td>1.131696</td>\n",
       "    </tr>\n",
       "    <tr>\n",
       "      <th>max</th>\n",
       "      <td>11.087627</td>\n",
       "      <td>18.021051</td>\n",
       "      <td>0.366256</td>\n",
       "      <td>11.135969</td>\n",
       "      <td>1.190243</td>\n",
       "      <td>2.124307</td>\n",
       "      <td>2.460370</td>\n",
       "      <td>1.187195</td>\n",
       "      <td>1.131696</td>\n",
       "    </tr>\n",
       "  </tbody>\n",
       "</table>\n",
       "</div>"
      ],
      "text/plain": [
       "           duration      campaign         pdays      previous  emp.var.rate  \\\n",
       "count  15972.000000  15972.000000  15972.000000  15972.000000  15972.000000   \n",
       "mean       0.016162      0.005913      0.006065     -0.009226      0.017383   \n",
       "std        1.034048      1.052529      0.992776      0.975050      1.001183   \n",
       "min       -1.079319     -0.519628     -2.747310     -0.435858     -1.613258   \n",
       "25%       -0.661669     -0.519628      0.366256     -0.435858     -0.678758   \n",
       "50%       -0.328129     -0.519628      0.366256     -0.435858     -0.269914   \n",
       "75%        0.373754     -0.067417      0.366256     -0.435858      1.190243   \n",
       "max       11.087627     18.021051      0.366256     11.135969      1.190243   \n",
       "\n",
       "       cons.price.idx  cons.conf.idx     euribor3m   nr.employed  \n",
       "count    15972.000000   15972.000000  15972.000000  15972.000000  \n",
       "mean         0.016089      -0.012570      0.015830      0.016156  \n",
       "std          1.009570       0.993442      1.001214      1.000336  \n",
       "min         -1.972896      -1.948443     -1.162420     -1.901244  \n",
       "25%         -0.867961      -0.974935     -0.943204     -0.610094  \n",
       "50%          0.011836      -0.288220     -0.730423     -0.347507  \n",
       "75%          0.890037       0.707913      1.140320      1.131696  \n",
       "max          2.124307       2.460370      1.187195      1.131696  "
      ]
     },
     "execution_count": 45,
     "metadata": {},
     "output_type": "execute_result"
    }
   ],
   "source": [
    "# transforming xtest \n",
    "xtest_num=xtest[df_num.columns[1:-1]]\n",
    "sc_xtest=sc.transform(xtest_num)\n",
    "xtest_sc=pd.DataFrame(sc_xtest,columns=xtest_num.columns,index=xtest_num.index)\n",
    "xtest_sc.describe()"
   ]
  },
  {
   "cell_type": "code",
   "execution_count": 46,
   "id": "249a7661",
   "metadata": {},
   "outputs": [
    {
     "data": {
      "text/html": [
       "<div>\n",
       "<style scoped>\n",
       "    .dataframe tbody tr th:only-of-type {\n",
       "        vertical-align: middle;\n",
       "    }\n",
       "\n",
       "    .dataframe tbody tr th {\n",
       "        vertical-align: top;\n",
       "    }\n",
       "\n",
       "    .dataframe thead th {\n",
       "        text-align: right;\n",
       "    }\n",
       "</style>\n",
       "<table border=\"1\" class=\"dataframe\">\n",
       "  <thead>\n",
       "    <tr style=\"text-align: right;\">\n",
       "      <th></th>\n",
       "      <th>job</th>\n",
       "      <th>marital</th>\n",
       "      <th>education</th>\n",
       "      <th>default</th>\n",
       "      <th>housing</th>\n",
       "      <th>loan</th>\n",
       "      <th>contact</th>\n",
       "      <th>month</th>\n",
       "      <th>day_of_week</th>\n",
       "      <th>poutcome</th>\n",
       "      <th>age_category</th>\n",
       "    </tr>\n",
       "  </thead>\n",
       "  <tbody>\n",
       "    <tr>\n",
       "      <th>6251</th>\n",
       "      <td>1</td>\n",
       "      <td>1</td>\n",
       "      <td>5</td>\n",
       "      <td>0</td>\n",
       "      <td>1</td>\n",
       "      <td>0</td>\n",
       "      <td>1</td>\n",
       "      <td>4</td>\n",
       "      <td>4</td>\n",
       "      <td>1</td>\n",
       "      <td>3</td>\n",
       "    </tr>\n",
       "    <tr>\n",
       "      <th>41477</th>\n",
       "      <td>0</td>\n",
       "      <td>1</td>\n",
       "      <td>1</td>\n",
       "      <td>0</td>\n",
       "      <td>0</td>\n",
       "      <td>0</td>\n",
       "      <td>0</td>\n",
       "      <td>4</td>\n",
       "      <td>3</td>\n",
       "      <td>1</td>\n",
       "      <td>0</td>\n",
       "    </tr>\n",
       "    <tr>\n",
       "      <th>50896</th>\n",
       "      <td>0</td>\n",
       "      <td>2</td>\n",
       "      <td>5</td>\n",
       "      <td>0</td>\n",
       "      <td>0</td>\n",
       "      <td>0</td>\n",
       "      <td>0</td>\n",
       "      <td>5</td>\n",
       "      <td>2</td>\n",
       "      <td>1</td>\n",
       "      <td>3</td>\n",
       "    </tr>\n",
       "    <tr>\n",
       "      <th>1516</th>\n",
       "      <td>0</td>\n",
       "      <td>0</td>\n",
       "      <td>1</td>\n",
       "      <td>0</td>\n",
       "      <td>0</td>\n",
       "      <td>0</td>\n",
       "      <td>1</td>\n",
       "      <td>6</td>\n",
       "      <td>3</td>\n",
       "      <td>1</td>\n",
       "      <td>3</td>\n",
       "    </tr>\n",
       "    <tr>\n",
       "      <th>6267</th>\n",
       "      <td>9</td>\n",
       "      <td>1</td>\n",
       "      <td>1</td>\n",
       "      <td>0</td>\n",
       "      <td>0</td>\n",
       "      <td>0</td>\n",
       "      <td>1</td>\n",
       "      <td>4</td>\n",
       "      <td>4</td>\n",
       "      <td>1</td>\n",
       "      <td>0</td>\n",
       "    </tr>\n",
       "  </tbody>\n",
       "</table>\n",
       "</div>"
      ],
      "text/plain": [
       "       job  marital  education  default  housing  loan  contact  month  \\\n",
       "6251     1        1          5        0        1     0        1      4   \n",
       "41477    0        1          1        0        0     0        0      4   \n",
       "50896    0        2          5        0        0     0        0      5   \n",
       "1516     0        0          1        0        0     0        1      6   \n",
       "6267     9        1          1        0        0     0        1      4   \n",
       "\n",
       "       day_of_week  poutcome  age_category  \n",
       "6251             4         1             3  \n",
       "41477            3         1             0  \n",
       "50896            2         1             3  \n",
       "1516             3         1             3  \n",
       "6267             4         1             0  "
      ]
     },
     "execution_count": 46,
     "metadata": {},
     "output_type": "execute_result"
    }
   ],
   "source": [
    "xtrain_cat=xtrain[df_cat.columns]\n",
    "xtrain_cat.head()"
   ]
  },
  {
   "cell_type": "code",
   "execution_count": 47,
   "id": "16f62f65",
   "metadata": {},
   "outputs": [
    {
     "data": {
      "text/plain": [
       "(15972, 11)"
      ]
     },
     "execution_count": 47,
     "metadata": {},
     "output_type": "execute_result"
    }
   ],
   "source": [
    "xtest_cat=xtest[df_cat.columns]\n",
    "xtest_cat.shape"
   ]
  },
  {
   "cell_type": "code",
   "execution_count": 48,
   "id": "e4274667",
   "metadata": {},
   "outputs": [
    {
     "name": "stdout",
     "output_type": "stream",
     "text": [
      "(37268, 20)\n",
      "(15972, 20)\n"
     ]
    }
   ],
   "source": [
    "xtrain_df=pd.concat([xtrain_sc,xtrain_cat],axis=1)\n",
    "xtest_df=pd.concat([xtest_sc,xtest_cat],axis=1)\n",
    "print(xtrain_df.shape)\n",
    "print(xtest_df.shape)"
   ]
  },
  {
   "cell_type": "code",
   "execution_count": 49,
   "id": "465649e6",
   "metadata": {},
   "outputs": [
    {
     "data": {
      "text/plain": [
       "array([0, 1, 0, 1, 0], dtype=int64)"
      ]
     },
     "execution_count": 49,
     "metadata": {},
     "output_type": "execute_result"
    }
   ],
   "source": [
    "# Logistic Regression algorithm\n",
    "lr_model=LogisticRegression()\n",
    "lr_model.fit(xtrain_df,ytrain)\n",
    "y_pred=lr_model.predict(xtest_df)\n",
    "y_pred[0:5]"
   ]
  },
  {
   "cell_type": "code",
   "execution_count": 50,
   "id": "f08c3376",
   "metadata": {},
   "outputs": [
    {
     "name": "stdout",
     "output_type": "stream",
     "text": [
      "              precision    recall  f1-score   support\n",
      "\n",
      "           0       0.88      0.88      0.88      7903\n",
      "           1       0.88      0.88      0.88      8069\n",
      "\n",
      "    accuracy                           0.88     15972\n",
      "   macro avg       0.88      0.88      0.88     15972\n",
      "weighted avg       0.88      0.88      0.88     15972\n",
      "\n"
     ]
    }
   ],
   "source": [
    "print(classification_report(y_pred,ytest))"
   ]
  },
  {
   "cell_type": "code",
   "execution_count": 51,
   "id": "a7f52882",
   "metadata": {},
   "outputs": [
    {
     "name": "stdout",
     "output_type": "stream",
     "text": [
      "Best Hyperparameters:\n",
      "{'C': 100, 'max_iter': 100, 'penalty': 'l1', 'solver': 'liblinear'}\n",
      "Best Accuracy: 0.8798970750645554\n",
      "Test Accuracy: 0.8802278988229402\n",
      "RUNTIME :  282.7922468185425 SEC\n"
     ]
    }
   ],
   "source": [
    "# Grid Search for logistic regression\n",
    "\n",
    "start=time.time()\n",
    "# hyperparameters\n",
    "param_grid = {\n",
    "    'C': [0.001, 0.01, 0.1, 1, 10, 100],\n",
    "    'penalty': ['l1'],\n",
    "    'solver': ['liblinear', 'lbfgs'],\n",
    "    'max_iter': [100, 200, 300],\n",
    "}\n",
    "logistic_regression = LogisticRegression(random_state=42)\n",
    "# initiation of grid search\n",
    "grid_search = GridSearchCV(estimator=logistic_regression, param_grid=param_grid, cv=5, scoring='accuracy')\n",
    "grid_search.fit(xtrain_df, ytrain)\n",
    "print(\"Best Hyperparameters:\")\n",
    "print(grid_search.best_params_)\n",
    "print(\"Best Accuracy:\", grid_search.best_score_)\n",
    "best_model = grid_search.best_estimator_\n",
    "test_accuracy = best_model.score(xtest_df, ytest)\n",
    "print(\"Test Accuracy:\", test_accuracy)\n",
    "\n",
    "end=time.time()\n",
    "run_time=end-start\n",
    "print(\"RUNTIME : \",run_time,\"SEC\")"
   ]
  },
  {
   "cell_type": "code",
   "execution_count": 52,
   "id": "79a7c478",
   "metadata": {},
   "outputs": [
    {
     "name": "stdout",
     "output_type": "stream",
     "text": [
      "              precision    recall  f1-score   support\n",
      "\n",
      "           0       0.88      0.88      0.88      7914\n",
      "           1       0.88      0.88      0.88      8058\n",
      "\n",
      "    accuracy                           0.88     15972\n",
      "   macro avg       0.88      0.88      0.88     15972\n",
      "weighted avg       0.88      0.88      0.88     15972\n",
      "\n"
     ]
    }
   ],
   "source": [
    "# building model with grid results\n",
    "lr_best=LogisticRegression(C=100,max_iter=100,penalty='l1',solver='liblinear')\n",
    "lr_best.fit(xtrain_df,ytrain)\n",
    "lr_bs_pred=lr_best.predict(xtest_df)\n",
    "print(classification_report(lr_bs_pred,ytest))"
   ]
  },
  {
   "cell_type": "code",
   "execution_count": 53,
   "id": "c571e11a",
   "metadata": {},
   "outputs": [
    {
     "data": {
      "text/plain": [
       "array([0, 1, 0, 1, 1, 1, 1, 1, 1, 1], dtype=int64)"
      ]
     },
     "execution_count": 53,
     "metadata": {},
     "output_type": "execute_result"
    }
   ],
   "source": [
    "# Decision tree algorithm\n",
    "tree=DecisionTreeClassifier()\n",
    "tree.fit(xtrain_df,ytrain)\n",
    "tree_pred=tree.predict(xtest_df)\n",
    "tree_pred[0:10]"
   ]
  },
  {
   "cell_type": "code",
   "execution_count": 54,
   "id": "ea09168f",
   "metadata": {},
   "outputs": [
    {
     "name": "stdout",
     "output_type": "stream",
     "text": [
      "              precision    recall  f1-score   support\n",
      "\n",
      "           0       0.91      0.92      0.92      7870\n",
      "           1       0.92      0.91      0.92      8102\n",
      "\n",
      "    accuracy                           0.92     15972\n",
      "   macro avg       0.92      0.92      0.92     15972\n",
      "weighted avg       0.92      0.92      0.92     15972\n",
      "\n"
     ]
    }
   ],
   "source": [
    "print(classification_report(tree_pred,ytest))"
   ]
  },
  {
   "cell_type": "code",
   "execution_count": 55,
   "id": "b15369ec",
   "metadata": {},
   "outputs": [
    {
     "name": "stdout",
     "output_type": "stream",
     "text": [
      "Best Hyperparameters:\n",
      "{'criterion': 'entropy', 'max_depth': 15, 'min_samples_leaf': 10, 'min_samples_split': 10}\n",
      "Best Accuracy: 0.9125523506920086\n",
      "Test Accuracy: 0.918419734535437\n",
      "RUNTIME :  341.51343631744385 SEC\n"
     ]
    }
   ],
   "source": [
    "# grid search for decision tree\n",
    "start=time.time()\n",
    "param_grid={\n",
    "    'criterion':['gini','entropy','log_loss'],\n",
    "    'max_depth':[5,10,15,20],\n",
    "    'min_samples_leaf':[10,20,30,40],\n",
    "    'min_samples_split':[10,20,30]\n",
    "}\n",
    "\n",
    "dt_model = DecisionTreeClassifier(random_state=100)\n",
    "gs_dt_model = GridSearchCV(estimator=dt_model,param_grid=param_grid,scoring='accuracy',cv=5)\n",
    "gs_dt_model.fit(xtrain_df,ytrain)\n",
    "print(\"Best Hyperparameters:\")\n",
    "print(gs_dt_model.best_params_)\n",
    "print(\"Best Accuracy:\", gs_dt_model.best_score_)\n",
    "\n",
    "# Get the best model with the best hyperparameters\n",
    "best_dt_model = gs_dt_model.best_estimator_\n",
    "\n",
    "# Evaluate the best model on the test set\n",
    "test_accuracy = best_dt_model.score(xtest_df, ytest)\n",
    "print(\"Test Accuracy:\", test_accuracy)\n",
    "\n",
    "end=time.time()\n",
    "run_time=end-start\n",
    "print(\"RUNTIME : \",run_time,\"SEC\")"
   ]
  },
  {
   "cell_type": "code",
   "execution_count": 56,
   "id": "269c5012",
   "metadata": {
    "scrolled": true
   },
   "outputs": [
    {
     "name": "stdout",
     "output_type": "stream",
     "text": [
      "              precision    recall  f1-score   support\n",
      "\n",
      "           0       0.91      0.93      0.92      7768\n",
      "           1       0.93      0.91      0.92      8204\n",
      "\n",
      "    accuracy                           0.92     15972\n",
      "   macro avg       0.92      0.92      0.92     15972\n",
      "weighted avg       0.92      0.92      0.92     15972\n",
      "\n"
     ]
    }
   ],
   "source": [
    "# building decision tree with grid results\n",
    "dt_best=DecisionTreeClassifier(criterion='entropy',max_depth=15,min_samples_leaf=10,min_samples_split=10)\n",
    "dt_best.fit(xtrain_df,ytrain)\n",
    "dt_bs_pred=dt_best.predict(xtest_df)\n",
    "print(classification_report(dt_bs_pred,ytest))"
   ]
  },
  {
   "cell_type": "code",
   "execution_count": 57,
   "id": "02ae3fd3",
   "metadata": {},
   "outputs": [
    {
     "name": "stdout",
     "output_type": "stream",
     "text": [
      "              precision    recall  f1-score   support\n",
      "\n",
      "           0       0.93      0.96      0.95      7701\n",
      "           1       0.96      0.93      0.95      8271\n",
      "\n",
      "    accuracy                           0.95     15972\n",
      "   macro avg       0.95      0.95      0.95     15972\n",
      "weighted avg       0.95      0.95      0.95     15972\n",
      "\n"
     ]
    },
    {
     "data": {
      "text/plain": [
       "13.564171314239502"
      ]
     },
     "execution_count": 57,
     "metadata": {},
     "output_type": "execute_result"
    }
   ],
   "source": [
    "# random forest algorithm\n",
    "start=time.time()\n",
    "rf=RandomForestClassifier(random_state=100)\n",
    "rf.fit(xtrain_df,ytrain)\n",
    "rf_pred=rf.predict(xtest_df)\n",
    "print(classification_report(rf_pred,ytest))\n",
    "end=time.time()\n",
    "runtime=end-start\n",
    "runtime"
   ]
  },
  {
   "cell_type": "code",
   "execution_count": 58,
   "id": "01b1b20d",
   "metadata": {},
   "outputs": [
    {
     "name": "stdout",
     "output_type": "stream",
     "text": [
      "Best Hyperparameters:\n",
      "{'criterion': 'entropy', 'max_depth': 15, 'min_samples_leaf': 10, 'min_samples_split': 10}\n",
      "Best Accuracy: 0.927122433037213\n",
      "Test Accuracy: 0.9299398948159279\n",
      "RUNTIME :  4724.462614536285 SEC\n"
     ]
    }
   ],
   "source": [
    "# grid search for random forest\n",
    "start=time.time()\n",
    "param_gird={\"n_estimator\":[80,90],\n",
    "           \"criterion\":['gini','entropy'],\n",
    "           \"max_depth\":[10,15],\n",
    "           \"min_samples_split\":[10,15],\n",
    "           \"min_samples_leaf\":[20,30]}\n",
    "\n",
    "rf_model =RandomForestClassifier(random_state=100)\n",
    "gs_rf_model = GridSearchCV(estimator=rf_model,param_grid=param_grid,scoring='accuracy',n_jobs=-1)\n",
    "gs_rf_model.fit(xtrain_df,ytrain)\n",
    "print(\"Best Hyperparameters:\")\n",
    "print(gs_rf_model.best_params_)\n",
    "print(\"Best Accuracy:\", gs_rf_model.best_score_)\n",
    "best_rf_model = gs_rf_model.best_estimator_\n",
    "test_accuracy = best_rf_model.score(xtest_df, ytest)\n",
    "print(\"Test Accuracy:\", test_accuracy)\n",
    "\n",
    "end=time.time()\n",
    "run_time=end-start\n",
    "print(\"RUNTIME : \",run_time,\"SEC\")"
   ]
  },
  {
   "cell_type": "code",
   "execution_count": 59,
   "id": "9dce943d",
   "metadata": {},
   "outputs": [
    {
     "name": "stdout",
     "output_type": "stream",
     "text": [
      "              precision    recall  f1-score   support\n",
      "\n",
      "           0       0.93      0.96      0.95      7701\n",
      "           1       0.96      0.93      0.95      8271\n",
      "\n",
      "    accuracy                           0.95     15972\n",
      "   macro avg       0.95      0.95      0.95     15972\n",
      "weighted avg       0.95      0.95      0.95     15972\n",
      "\n"
     ]
    }
   ],
   "source": [
    "gs_rf=RandomForestClassifier(criterion='entropy',max_depth=15,min_samples_split=10,min_samples_leaf=10,\n",
    "                         random_state=100)\n",
    "gs_rf.fit(xtrain_df,ytrain)\n",
    "gs_rf_pred=rf.predict(xtest_df)\n",
    "print(classification_report(gs_rf_pred,ytest))"
   ]
  },
  {
   "cell_type": "code",
   "execution_count": 60,
   "id": "be055b98",
   "metadata": {},
   "outputs": [
    {
     "name": "stdout",
     "output_type": "stream",
     "text": [
      "              precision    recall  f1-score   support\n",
      "\n",
      "           0       0.63      0.88      0.73      5662\n",
      "           1       0.92      0.71      0.80     10310\n",
      "\n",
      "    accuracy                           0.77     15972\n",
      "   macro avg       0.77      0.80      0.77     15972\n",
      "weighted avg       0.82      0.77      0.78     15972\n",
      "\n"
     ]
    }
   ],
   "source": [
    "# Naive bayes algorithm\n",
    "nav_bai=GaussianNB()\n",
    "nav_bai.fit(xtrain_df,ytrain)\n",
    "nb_pred=nav_bai.predict(xtest_df)\n",
    "nb_pred[0:10]\n",
    "print(classification_report(nb_pred,ytest))"
   ]
  },
  {
   "cell_type": "code",
   "execution_count": 61,
   "id": "074e0ce2",
   "metadata": {},
   "outputs": [
    {
     "name": "stdout",
     "output_type": "stream",
     "text": [
      "Best Hyperparameters:\n",
      "{'var_smoothing': 1e-07}\n",
      "Best Accuracy: 0.7950521128181827\n",
      "Test Accuracy: 0.7982093663911846\n"
     ]
    }
   ],
   "source": [
    "#grid search for naive bayes\n",
    "\n",
    "gnb=GaussianNB()\n",
    "param_grid = {'var_smoothing': [1e-9, 1e-8, 1e-7, 1e-6, 1e-5]}\n",
    "gs_gnb=GridSearchCV(estimator=gnb,param_grid=param_grid,cv=5,scoring='accuracy')\n",
    "gs_gnb.fit(xtrain_df,ytrain)\n",
    "print(\"Best Hyperparameters:\")\n",
    "print(gs_gnb.best_params_)\n",
    "print(\"Best Accuracy:\", gs_gnb.best_score_)\n",
    "best_gn_model = gs_gnb.best_estimator_\n",
    "test_accuracy = best_gn_model.score(xtest_df, ytest)\n",
    "print(\"Test Accuracy:\", test_accuracy)"
   ]
  },
  {
   "cell_type": "code",
   "execution_count": 62,
   "id": "ae87afb9",
   "metadata": {},
   "outputs": [
    {
     "name": "stdout",
     "output_type": "stream",
     "text": [
      "              precision    recall  f1-score   support\n",
      "\n",
      "           0       0.63      0.88      0.73      5662\n",
      "           1       0.92      0.71      0.80     10310\n",
      "\n",
      "    accuracy                           0.77     15972\n",
      "   macro avg       0.77      0.80      0.77     15972\n",
      "weighted avg       0.82      0.77      0.78     15972\n",
      "\n"
     ]
    }
   ],
   "source": [
    "gs_nb_bst=GaussianNB(var_smoothing=1e-07)\n",
    "gs_nb_bst.fit(xtrain_df,ytrain)\n",
    "gs_nb_bst_pred=nav_bai.predict(xtest_df)\n",
    "gs_nb_bst_pred[0:10]\n",
    "print(classification_report(gs_nb_bst_pred,ytest))"
   ]
  },
  {
   "cell_type": "code",
   "execution_count": 63,
   "id": "0c431a9f",
   "metadata": {},
   "outputs": [
    {
     "name": "stdout",
     "output_type": "stream",
     "text": [
      "              precision    recall  f1-score   support\n",
      "\n",
      "           0       0.86      0.89      0.88      7640\n",
      "           1       0.90      0.86      0.88      8332\n",
      "\n",
      "    accuracy                           0.88     15972\n",
      "   macro avg       0.88      0.88      0.88     15972\n",
      "weighted avg       0.88      0.88      0.88     15972\n",
      "\n"
     ]
    }
   ],
   "source": [
    "# stochastic gradient algorithm\n",
    "sto_gra=SGDClassifier()\n",
    "sto_gra.fit(xtrain_df,ytrain)\n",
    "sg_pred=sto_gra.predict(xtest_df)\n",
    "sg_pred[0:10]\n",
    "print(classification_report(sg_pred,ytest))"
   ]
  },
  {
   "cell_type": "code",
   "execution_count": 64,
   "id": "f323def3",
   "metadata": {},
   "outputs": [
    {
     "name": "stdout",
     "output_type": "stream",
     "text": [
      "Best Hyperparameters:\n",
      "{'alpha': 0.001, 'loss': 'modified_huber', 'max_iter': 1000, 'penalty': 'l1'}\n",
      "Best Accuracy: 0.8802727339066522\n",
      "Test Accuracy: 0.8759078387177561\n",
      "RUNTIME :  81.1864242553711 SECS\n"
     ]
    }
   ],
   "source": [
    "start=time.time()\n",
    "sgd_classifier = SGDClassifier(random_state=42)\n",
    "\n",
    "# Define the hyperparameter grid\n",
    "param_grid = {\n",
    "    'loss': ['hinge', 'log', 'modified_huber'],\n",
    "    'penalty': ['l2', 'l1', 'elasticnet'],\n",
    "    'alpha': [0.001, 0.01, 0.1],\n",
    "    'max_iter': [1000, 2000]}\n",
    "gs_sgd = GridSearchCV(estimator=sgd_classifier, param_grid=param_grid, cv=5, scoring='accuracy')\n",
    "gs_sgd.fit(xtrain_df,ytrain)\n",
    "print(\"Best Hyperparameters:\")\n",
    "print(gs_sgd.best_params_)\n",
    "print(\"Best Accuracy:\", gs_sgd.best_score_)\n",
    "best_model = gs_sgd.best_estimator_\n",
    "test_accuracy = best_model.score(xtest_df, ytest) \n",
    "print(\"Test Accuracy:\", test_accuracy)\n",
    "\n",
    "end=time.time()\n",
    "runtime=end-start\n",
    "print(\"RUNTIME : \",runtime,\"SECS\")"
   ]
  },
  {
   "cell_type": "code",
   "execution_count": 65,
   "id": "90a0210c",
   "metadata": {},
   "outputs": [
    {
     "name": "stdout",
     "output_type": "stream",
     "text": [
      "              precision    recall  f1-score   support\n",
      "\n",
      "           0       0.89      0.85      0.87      8352\n",
      "           1       0.85      0.89      0.87      7620\n",
      "\n",
      "    accuracy                           0.87     15972\n",
      "   macro avg       0.87      0.87      0.87     15972\n",
      "weighted avg       0.87      0.87      0.87     15972\n",
      "\n"
     ]
    }
   ],
   "source": [
    "gs_sgd_bst=SGDClassifier(alpha=0.001,loss='modified_huber',max_iter=1000,penalty='l1')\n",
    "gs_sgd_bst.fit(xtrain_df,ytrain)\n",
    "gs_sgd_pred=gs_sgd_bst.predict(xtest_df)\n",
    "print(classification_report(gs_sgd_pred,ytest))"
   ]
  },
  {
   "cell_type": "markdown",
   "id": "e30409f4",
   "metadata": {},
   "source": [
    "**MODEL_COMPARISON**"
   ]
  },
  {
   "cell_type": "code",
   "execution_count": 66,
   "id": "b3045b54",
   "metadata": {},
   "outputs": [
    {
     "data": {
      "image/png": "[encoded data removed]",
      "text/plain": [
       "<Figure size 720x360 with 1 Axes>"
      ]
     },
     "metadata": {
      "needs_background": "light"
     },
     "output_type": "display_data"
    }
   ],
   "source": [
    "models = [lr_best,dt_best,gs_rf,gs_nb_bst,gs_sgd_bst]  # Add all your models here\n",
    "model_names = [\"LOG-REG\", \"DECS_TREE\", \"RAND_FOR\",\"NAV_BAI\",'SGD_CLASS'] \n",
    "fig, ax = plt.subplots()\n",
    "for model, name in zip(models, model_names):\n",
    "    y_score = model.predict_proba(xtest_df)[:, 1]\n",
    "    fpr, tpr, _ = roc_curve(ytest, y_score)\n",
    "    roc_auc = auc(fpr, tpr)\n",
    "    ax.plot(fpr, tpr, label=f'{name} (AUC = {roc_auc:.2f})')\n",
    "\n",
    "ax.set_title(\"ROC Curves for Different Models\")\n",
    "ax.set_xlabel(\"False Positive Rate\")\n",
    "ax.set_ylabel(\"True Positive Rate\")\n",
    "plt.legend(loc='lower right')\n",
    "\n",
    "# Display the ROC curve\n",
    "plt.show()"
   ]
  },
  {
   "cell_type": "code",
   "execution_count": 68,
   "id": "03688cfe",
   "metadata": {},
   "outputs": [
    {
     "data": {
      "text/html": [
       "<div>\n",
       "<style scoped>\n",
       "    .dataframe tbody tr th:only-of-type {\n",
       "        vertical-align: middle;\n",
       "    }\n",
       "\n",
       "    .dataframe tbody tr th {\n",
       "        vertical-align: top;\n",
       "    }\n",
       "\n",
       "    .dataframe thead th {\n",
       "        text-align: right;\n",
       "    }\n",
       "</style>\n",
       "<table border=\"1\" class=\"dataframe\">\n",
       "  <thead>\n",
       "    <tr style=\"text-align: right;\">\n",
       "      <th></th>\n",
       "      <th>Class</th>\n",
       "      <th>Precision</th>\n",
       "      <th>Recall</th>\n",
       "      <th>F1-Score</th>\n",
       "      <th>Accuracy</th>\n",
       "    </tr>\n",
       "    <tr>\n",
       "      <th>Model</th>\n",
       "      <th></th>\n",
       "      <th></th>\n",
       "      <th></th>\n",
       "      <th></th>\n",
       "      <th></th>\n",
       "    </tr>\n",
       "  </thead>\n",
       "  <tbody>\n",
       "    <tr>\n",
       "      <th>Random Forest</th>\n",
       "      <td>0</td>\n",
       "      <td>0.959009</td>\n",
       "      <td>0.898018</td>\n",
       "      <td>0.927512</td>\n",
       "      <td>0.929940</td>\n",
       "    </tr>\n",
       "    <tr>\n",
       "      <th>Random Forest</th>\n",
       "      <td>1</td>\n",
       "      <td>0.904432</td>\n",
       "      <td>0.961750</td>\n",
       "      <td>0.932211</td>\n",
       "      <td>0.929940</td>\n",
       "    </tr>\n",
       "    <tr>\n",
       "      <th>Decision Tree</th>\n",
       "      <td>0</td>\n",
       "      <td>0.929454</td>\n",
       "      <td>0.905670</td>\n",
       "      <td>0.917408</td>\n",
       "      <td>0.918608</td>\n",
       "    </tr>\n",
       "    <tr>\n",
       "      <th>Decision Tree</th>\n",
       "      <td>1</td>\n",
       "      <td>0.908337</td>\n",
       "      <td>0.931500</td>\n",
       "      <td>0.919773</td>\n",
       "      <td>0.918608</td>\n",
       "    </tr>\n",
       "    <tr>\n",
       "      <th>Logistic Regression</th>\n",
       "      <td>0</td>\n",
       "      <td>0.882866</td>\n",
       "      <td>0.876443</td>\n",
       "      <td>0.879642</td>\n",
       "      <td>0.880291</td>\n",
       "    </tr>\n",
       "    <tr>\n",
       "      <th>Logistic Regression</th>\n",
       "      <td>1</td>\n",
       "      <td>0.877761</td>\n",
       "      <td>0.884125</td>\n",
       "      <td>0.880932</td>\n",
       "      <td>0.880291</td>\n",
       "    </tr>\n",
       "    <tr>\n",
       "      <th>SGD Classifier</th>\n",
       "      <td>0</td>\n",
       "      <td>0.854047</td>\n",
       "      <td>0.894757</td>\n",
       "      <td>0.873928</td>\n",
       "      <td>0.871150</td>\n",
       "    </tr>\n",
       "    <tr>\n",
       "      <th>SGD Classifier</th>\n",
       "      <td>1</td>\n",
       "      <td>0.889895</td>\n",
       "      <td>0.847625</td>\n",
       "      <td>0.868246</td>\n",
       "      <td>0.871150</td>\n",
       "    </tr>\n",
       "    <tr>\n",
       "      <th>Naive Bayes</th>\n",
       "      <td>0</td>\n",
       "      <td>0.839457</td>\n",
       "      <td>0.736578</td>\n",
       "      <td>0.784660</td>\n",
       "      <td>0.798209</td>\n",
       "    </tr>\n",
       "    <tr>\n",
       "      <th>Naive Bayes</th>\n",
       "      <td>1</td>\n",
       "      <td>0.766069</td>\n",
       "      <td>0.859625</td>\n",
       "      <td>0.810155</td>\n",
       "      <td>0.798209</td>\n",
       "    </tr>\n",
       "  </tbody>\n",
       "</table>\n",
       "</div>"
      ],
      "text/plain": [
       "                    Class  Precision    Recall  F1-Score  Accuracy\n",
       "Model                                                             \n",
       "Random Forest           0   0.959009  0.898018  0.927512  0.929940\n",
       "Random Forest           1   0.904432  0.961750  0.932211  0.929940\n",
       "Decision Tree           0   0.929454  0.905670  0.917408  0.918608\n",
       "Decision Tree           1   0.908337  0.931500  0.919773  0.918608\n",
       "Logistic Regression     0   0.882866  0.876443  0.879642  0.880291\n",
       "Logistic Regression     1   0.877761  0.884125  0.880932  0.880291\n",
       "SGD Classifier          0   0.854047  0.894757  0.873928  0.871150\n",
       "SGD Classifier          1   0.889895  0.847625  0.868246  0.871150\n",
       "Naive Bayes             0   0.839457  0.736578  0.784660  0.798209\n",
       "Naive Bayes             1   0.766069  0.859625  0.810155  0.798209"
      ]
     },
     "execution_count": 68,
     "metadata": {},
     "output_type": "execute_result"
    }
   ],
   "source": [
    "metrics_df = pd.DataFrame(columns=[\"Model\", \"Class\", \"Precision\", \"Recall\", \"F1-Score\", \"Accuracy\"])\n",
    "\n",
    "for model, model_name in zip(models, model_names):\n",
    "    # Assuming xtest_df and ytest are your test data\n",
    "    y_pred = model.predict(xtest_df)\n",
    "    report = classification_report(ytest, y_pred, output_dict=True)\n",
    "    \n",
    "    # Calculate accuracy separately\n",
    "    accuracy = accuracy_score(ytest, y_pred)\n",
    "    \n",
    "    # Loop through the report dictionary and add metrics to the DataFrame\n",
    "    for class_name, metrics in report.items():\n",
    "        if class_name in ('0', '1'):\n",
    "            metrics_df = metrics_df.append({\n",
    "                \"Class\":class_name,\n",
    "                \"Model\": model_name,\n",
    "                \"Precision\": metrics[\"precision\"],\n",
    "                \"Recall\": metrics[\"recall\"],\n",
    "                \"F1-Score\": metrics[\"f1-score\"],\n",
    "                \"Accuracy\": accuracy  # Add accuracy separately\n",
    "            }, ignore_index=True)\n",
    "\n",
    "# Set the \"Model\" column as the index\n",
    "metrics_df.set_index(\"Model\", inplace=True)\n",
    "\n",
    "# Display the DataFrame\n",
    "metrics_df.sort_values(by=\"Accuracy\",ascending=False)"
   ]
  },
  {
   "cell_type": "code",
   "execution_count": null,
   "id": "6b1db5b8",
   "metadata": {},
   "outputs": [],
   "source": [
    "**"
   ]
  }
 ],
 "metadata": {
  "kernelspec": {
   "display_name": "Python 3 (ipykernel)",
   "language": "python",
   "name": "python3"
  },
  "language_info": {
   "codemirror_mode": {
    "name": "ipython",
    "version": 3
   },
   "file_extension": ".py",
   "mimetype": "text/x-python",
   "name": "python",
   "nbconvert_exporter": "python",
   "pygments_lexer": "ipython3",
   "version": "3.9.12"
  }
 },
 "nbformat": 4,
 "nbformat_minor": 5
}
